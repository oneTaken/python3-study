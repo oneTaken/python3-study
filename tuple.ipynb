{
 "cells": [
  {
   "cell_type": "markdown",
   "metadata": {},
   "source": [
    "参考[官方资料](https://docs.python.org/3/library/stdtypes.html#tuples),及[其中文翻译](http://blog.csdn.net/tomato__/article/details/44808995)。"
   ]
  },
  {
   "cell_type": "markdown",
   "metadata": {},
   "source": [
    "构造元组\n",
    "构造元组有以下方法：\n",
    "          \n",
    "    1）用一对括号表示一个空元组：()；\n",
    "    2）在单个元素后跟逗号表示单个元素的元组：a,或者(a,)；\n",
    "    3）用逗号分隔的多个元素：a,b,c或者(a,b,c)；\n",
    "    4）用tuple()或者tuple(iterable)构造元组。\n",
    "tuple()创建一个空的元组；\n",
    "tuple(iterable)构造的元组和iterable具有相同的元素顺序，iterable可以是一个序列，一个支持迭代的容器，或者iterator对象。\n",
    "\n",
    "如果iterable已经是一个元组，则直接返回，"
   ]
  },
  {
   "cell_type": "markdown",
   "metadata": {},
   "source": [
    "需要注意的是，构造元组真正需要的是逗号，而不是圆括号（例如一个元素的元组必须在后面带一个逗号），圆括号是可选的。\n",
    "\n",
    "除了空的元组或者为了避免语义冲突，例如，f(a,b,c)是3个参数的函数，而f((a,b,c))则是传入一个参数为元组的函数。"
   ]
  },
  {
   "cell_type": "code",
   "execution_count": 1,
   "metadata": {},
   "outputs": [
    {
     "data": {
      "text/plain": [
       "(1, 2, 3)"
      ]
     },
     "execution_count": 1,
     "metadata": {},
     "output_type": "execute_result"
    }
   ],
   "source": [
    "x = 1, 2, 3\n",
    "x"
   ]
  },
  {
   "cell_type": "markdown",
   "metadata": {},
   "source": [
    "需要注意元组的分片还是元组,元组可以用于给变量批量赋值."
   ]
  },
  {
   "cell_type": "code",
   "execution_count": 3,
   "metadata": {},
   "outputs": [
    {
     "data": {
      "text/plain": [
       "(1,)"
      ]
     },
     "execution_count": 3,
     "metadata": {},
     "output_type": "execute_result"
    }
   ],
   "source": [
    "x[0:1]"
   ]
  },
  {
   "cell_type": "markdown",
   "metadata": {},
   "source": [
    "参考[tuple|菜鸟教程](http://www.runoob.com/python3/python3-tuple.html),tuple 不可变，没有类函数。"
   ]
  }
 ],
 "metadata": {
  "kernelspec": {
   "display_name": "Python 3",
   "language": "python",
   "name": "python3"
  },
  "language_info": {
   "codemirror_mode": {
    "name": "ipython",
    "version": 3.0
   },
   "file_extension": ".py",
   "mimetype": "text/x-python",
   "name": "python",
   "nbconvert_exporter": "python",
   "pygments_lexer": "ipython3",
   "version": "3.6.1"
  }
 },
 "nbformat": 4,
 "nbformat_minor": 0
}