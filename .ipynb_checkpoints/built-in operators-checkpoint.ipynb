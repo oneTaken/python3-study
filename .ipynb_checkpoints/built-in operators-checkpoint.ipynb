{
 "cells": [
  {
   "cell_type": "markdown",
   "metadata": {},
   "source": [
    "参考[python3运算符|菜鸟教程](http://www.runoob.com/python3/python3-basic-operators.html),"
   ]
  },
  {
   "cell_type": "markdown",
   "metadata": {},
   "source": [
    "1. 算术运算符\n",
    "        \n",
    "        +， -， *， /, %, **, //\n",
    "2. 比较运算符\n",
    "\n",
    "        ==, !=, >, <, >=, <=        \n",
    "3. 赋值运算符\n",
    "\n",
    "        =, +=, -=, *=, /=, %=, **=, //=\n",
    "4. 位运算符\n",
    "        \n",
    "        &, |, ^, ~, <<, >>\n",
    "5. 逻辑运算符\n",
    "        \n",
    "        and, or , not\n",
    "6. 成员运算符\n",
    "\n",
    "        in, not in\n",
    "7. 身份运算符\n",
    "\n",
    "        is, is not"
   ]
  },
  {
   "cell_type": "markdown",
   "metadata": {},
   "source": [
    "## 1. 算术运算符"
   ]
  },
  {
   "cell_type": "code",
   "execution_count": 1,
   "metadata": {},
   "outputs": [
    {
     "name": "stdout",
     "output_type": "stream",
     "text": [
      "5\n",
      "1\n",
      "6\n",
      "1.5\n",
      "1\n",
      "9\n",
      "1\n"
     ]
    }
   ],
   "source": [
    "a = 3\n",
    "b = 2\n",
    "print(a + b)\n",
    "print(a - b)\n",
    "print(a * b)\n",
    "print(a / b)\n",
    "print(a % b)\n",
    "print(a ** b)\n",
    "print(a // b)"
   ]
  },
  {
   "cell_type": "code",
   "execution_count": 3,
   "metadata": {},
   "outputs": [
    {
     "name": "stdout",
     "output_type": "stream",
     "text": [
      "1234\n",
      "[12, 34]\n",
      "None\n"
     ]
    }
   ],
   "source": [
    "# '+' 还可用于字符串连接; 列表连接, 返回新的列表\n",
    "print('12' + '34')\n",
    "print([12] + [34]) # result = [12].extend([34]),extend函数不返回新的列表\n",
    "print([12].extend([34]))"
   ]
  },
  {
   "cell_type": "code",
   "execution_count": 5,
   "metadata": {},
   "outputs": [
    {
     "name": "stdout",
     "output_type": "stream",
     "text": [
      "121212\n",
      "[12, 12, 12]\n",
      "(1, 2, 1, 2, 1, 2)\n"
     ]
    }
   ],
   "source": [
    "# '*'还可用于序列多个成员生成, 返回一个新的序列\n",
    "print('12'*3)\n",
    "print([12]*3)\n",
    "print((1,2)*3)"
   ]
  },
  {
   "cell_type": "code",
   "execution_count": 12,
   "metadata": {},
   "outputs": [
    {
     "name": "stdout",
     "output_type": "stream",
     "text": [
      "0.09999999999999984\n",
      "0.09999999999999992\n",
      "0.1000000000000002\n",
      "1.1102230246251565e-16\n",
      "0.19999999999999984\n"
     ]
    }
   ],
   "source": [
    "# '%'还可用于浮点数取模， 会有一定的精度损失\n",
    "print(3 % 0.1)\n",
    "print(3.1 % 0.2)\n",
    "print(3.1 % 0.3)\n",
    "print(3 % 0.3)\n",
    "print(3 % 0.4)"
   ]
  },
  {
   "cell_type": "code",
   "execution_count": 15,
   "metadata": {},
   "outputs": [
    {
     "name": "stdout",
     "output_type": "stream",
     "text": [
      "5.656854249492381\n",
      "6.25\n",
      "9.882117688026186\n"
     ]
    }
   ],
   "source": [
    "# ‘**’还可用于浮点数的乘方， 有一定的精度损失\n",
    "print(2 ** 2.5)\n",
    "print(2.5 ** 2)\n",
    "print(2.5 ** 2.5)"
   ]
  },
  {
   "cell_type": "code",
   "execution_count": 17,
   "metadata": {},
   "outputs": [
    {
     "name": "stdout",
     "output_type": "stream",
     "text": [
      "10.0\n",
      "7.0\n",
      "3.0\n",
      "1\n"
     ]
    }
   ],
   "source": [
    "# '//'也可用于浮点数整除，返回浮点数\n",
    "print(3 // 0.3)\n",
    "print(3 // 0.4)\n",
    "print(3.2 // 1)\n",
    "print(3 // 2)"
   ]
  },
  {
   "cell_type": "markdown",
   "metadata": {},
   "source": [
    "## 2. 比较运算符"
   ]
  },
  {
   "cell_type": "code",
   "execution_count": 18,
   "metadata": {},
   "outputs": [
    {
     "name": "stdout",
     "output_type": "stream",
     "text": [
      "False\n",
      "True\n",
      "True\n",
      "True\n",
      "False\n",
      "False\n"
     ]
    }
   ],
   "source": [
    "print( 1 == 2)\n",
    "print( 1 != 2)\n",
    "print( 1 < 2)\n",
    "print( 1 <= 2)\n",
    "print( 1 > 2)\n",
    "print(1 >= 2)"
   ]
  },
  {
   "cell_type": "markdown",
   "metadata": {},
   "source": [
    ">True 可以当做数值1参与运算，False 可以当做数值0参与运算"
   ]
  },
  {
   "cell_type": "code",
   "execution_count": 22,
   "metadata": {},
   "outputs": [
    {
     "name": "stdout",
     "output_type": "stream",
     "text": [
      "False\n",
      "False\n",
      "True\n",
      "True\n",
      "True\n",
      "2\n"
     ]
    }
   ],
   "source": [
    "print(True < False)\n",
    "print(True == False)\n",
    "print(True > False)\n",
    "print( True == 1)\n",
    "print(False == 0)\n",
    "print(1 + True)"
   ]
  },
  {
   "cell_type": "code",
   "execution_count": 24,
   "metadata": {},
   "outputs": [
    {
     "name": "stdout",
     "output_type": "stream",
     "text": [
      "True\n",
      "True\n"
     ]
    }
   ],
   "source": [
    "print(None == None)\n",
    "print(None is None)"
   ]
  },
  {
   "cell_type": "markdown",
   "metadata": {},
   "source": [
    ">基本数据类型可以转换为逻辑值，自定义类型实现了\\_\\_bool\\_\\_函数的话也可以转换\n",
    "int/float: 不为0则转换为True,否则False\n",
    "str/tuple/list: 不为空则转换为True"
   ]
  },
  {
   "cell_type": "code",
   "execution_count": 25,
   "metadata": {},
   "outputs": [
    {
     "name": "stdout",
     "output_type": "stream",
     "text": [
      "True\n",
      "False\n",
      "True\n",
      "False\n",
      "True\n",
      "False\n",
      "True\n",
      "False\n",
      "True\n",
      "False\n"
     ]
    }
   ],
   "source": [
    "print(bool(1))\n",
    "print(bool(0))\n",
    "print(bool(1.0))\n",
    "print(bool(0.0))\n",
    "print(bool('1'))\n",
    "print(bool(''))\n",
    "print(bool([1]))\n",
    "print(bool([]))\n",
    "print(bool((1,)))\n",
    "print(bool(()))"
   ]
  },
  {
   "cell_type": "markdown",
   "metadata": {},
   "source": [
    "### 4. 位运算符\n",
    " &, |, ^, ~, <<, >>\n",
    " \n",
    "操作对象均为整型数值"
   ]
  },
  {
   "cell_type": "code",
   "execution_count": 43,
   "metadata": {},
   "outputs": [
    {
     "name": "stdout",
     "output_type": "stream",
     "text": [
      "1\n",
      "0\n",
      "0\n"
     ]
    },
    {
     "ename": "TypeError",
     "evalue": "unsupported operand type(s) for &: 'int' and 'float'",
     "output_type": "error",
     "traceback": [
      "\u001b[1;31m---------------------------------------------------------------------------\u001b[0m",
      "\u001b[1;31mTypeError\u001b[0m                                 Traceback (most recent call last)",
      "\u001b[1;32m<ipython-input-43-f3f00e5c4bc3>\u001b[0m in \u001b[0;36m<module>\u001b[1;34m()\u001b[0m\n\u001b[0;32m      3\u001b[0m \u001b[0mprint\u001b[0m\u001b[1;33m(\u001b[0m\u001b[1;36m1\u001b[0m \u001b[1;33m&\u001b[0m \u001b[1;36m0\u001b[0m\u001b[1;33m)\u001b[0m\u001b[1;33m\u001b[0m\u001b[0m\n\u001b[0;32m      4\u001b[0m \u001b[0mprint\u001b[0m\u001b[1;33m(\u001b[0m\u001b[1;36m0\u001b[0m \u001b[1;33m&\u001b[0m \u001b[1;36m0\u001b[0m\u001b[1;33m)\u001b[0m\u001b[1;33m\u001b[0m\u001b[0m\n\u001b[1;32m----> 5\u001b[1;33m \u001b[0mprint\u001b[0m\u001b[1;33m(\u001b[0m\u001b[1;36m1\u001b[0m \u001b[1;33m&\u001b[0m \u001b[1;36m1.0\u001b[0m\u001b[1;33m)\u001b[0m\u001b[1;33m\u001b[0m\u001b[0m\n\u001b[0m\u001b[0;32m      6\u001b[0m \u001b[0mprint\u001b[0m\u001b[1;33m(\u001b[0m\u001b[1;34m'1'\u001b[0m \u001b[1;33m&\u001b[0m \u001b[1;36m2\u001b[0m\u001b[1;33m)\u001b[0m\u001b[1;33m\u001b[0m\u001b[0m\n",
      "\u001b[1;31mTypeError\u001b[0m: unsupported operand type(s) for &: 'int' and 'float'"
     ]
    }
   ],
   "source": [
    "\n",
    "print(1 & 1)\n",
    "print(1 & 0)\n",
    "print(0 & 0)\n",
    "print(1 & 1.0)\n",
    "print('1' & 2)"
   ]
  },
  {
   "cell_type": "code",
   "execution_count": 44,
   "metadata": {},
   "outputs": [
    {
     "name": "stdout",
     "output_type": "stream",
     "text": [
      "0\n",
      "0b1000\n",
      "0b10111\n",
      "5\n",
      "['0', '0', '0', '0', '0']\n",
      "0\n"
     ]
    }
   ],
   "source": [
    "x = 8\n",
    "y = 23\n",
    "print(x & y)\n",
    "print(bin(x))\n",
    "print(bin(y))\n",
    "length = max(len(bin(x)), len(bin(y)))-2\n",
    "print(length)\n",
    "s1 = bin(x)[2:].zfill(length)\n",
    "s2 = bin(y)[2:].zfill(length)\n",
    "r = [str(int(s1[i])&int(s2[i])) for i in range(length)]\n",
    "print(r)\n",
    "print(int(''.join(r),2))"
   ]
  },
  {
   "cell_type": "code",
   "execution_count": 46,
   "metadata": {},
   "outputs": [
    {
     "name": "stdout",
     "output_type": "stream",
     "text": [
      "12\n",
      "0\n"
     ]
    },
    {
     "ename": "TypeError",
     "evalue": "unsupported operand type(s) for <<: 'float' and 'int'",
     "output_type": "error",
     "traceback": [
      "\u001b[1;31m---------------------------------------------------------------------------\u001b[0m",
      "\u001b[1;31mTypeError\u001b[0m                                 Traceback (most recent call last)",
      "\u001b[1;32m<ipython-input-46-b7e3765249d1>\u001b[0m in \u001b[0;36m<module>\u001b[1;34m()\u001b[0m\n\u001b[0;32m      1\u001b[0m \u001b[0mprint\u001b[0m\u001b[1;33m(\u001b[0m\u001b[1;36m3\u001b[0m\u001b[1;33m<<\u001b[0m\u001b[1;36m2\u001b[0m\u001b[1;33m)\u001b[0m\u001b[1;33m\u001b[0m\u001b[0m\n\u001b[0;32m      2\u001b[0m \u001b[0mprint\u001b[0m\u001b[1;33m(\u001b[0m\u001b[1;36m3\u001b[0m\u001b[1;33m>>\u001b[0m\u001b[1;36m2\u001b[0m\u001b[1;33m)\u001b[0m\u001b[1;33m\u001b[0m\u001b[0m\n\u001b[1;32m----> 3\u001b[1;33m \u001b[0mprint\u001b[0m\u001b[1;33m(\u001b[0m\u001b[1;36m3.2\u001b[0m\u001b[1;33m<<\u001b[0m\u001b[1;36m2\u001b[0m\u001b[1;33m)\u001b[0m\u001b[1;33m\u001b[0m\u001b[0m\n\u001b[0m\u001b[0;32m      4\u001b[0m \u001b[0mprint\u001b[0m\u001b[1;33m(\u001b[0m\u001b[1;36m3.2\u001b[0m\u001b[1;33m>>\u001b[0m\u001b[1;36m2\u001b[0m\u001b[1;33m)\u001b[0m\u001b[1;33m\u001b[0m\u001b[0m\n",
      "\u001b[1;31mTypeError\u001b[0m: unsupported operand type(s) for <<: 'float' and 'int'"
     ]
    }
   ],
   "source": [
    "print(3<<2)\n",
    "print(3>>2)\n",
    "print(3.2<<2)\n",
    "print(3.2>>2)"
   ]
  },
  {
   "cell_type": "markdown",
   "metadata": {},
   "source": []
  }
 ],
 "metadata": {
  "kernelspec": {
   "display_name": "Python 3",
   "language": "python",
   "name": "python3"
  },
  "language_info": {
   "codemirror_mode": {
    "name": "ipython",
    "version": 3
   },
   "file_extension": ".py",
   "mimetype": "text/x-python",
   "name": "python",
   "nbconvert_exporter": "python",
   "pygments_lexer": "ipython3",
   "version": "3.6.1"
  }
 },
 "nbformat": 4,
 "nbformat_minor": 2
}
