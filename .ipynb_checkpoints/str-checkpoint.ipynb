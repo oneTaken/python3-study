{
 "cells": [
  {
   "cell_type": "markdown",
   "metadata": {},
   "source": [
    "官方教程[传送门](https://docs.python.org/3/library/stdtypes.html#str)，[官方教程极好中文翻译](http://blog.csdn.net/tomato__/article/details/44856677)，\n",
    "在Python中，字符串对应对象str，字符串是使用Unicode编码的不可变序列。\n",
    "字符串可以使用下面几种语法：\n",
    "\n",
    "    1. 单引号：'allows embedded \"double\" quotes'\n",
    "    2. 双引号：\"allows embedded 'single' quotes\"\n",
    "    3. 三引号：'''Three single quotes''', \"\"\"Three double quotes\"\"\"\n",
    "三引号的字符串可以在多行扩展——所有空格都将被包含在字符串中。\n",
    "\n",
    "对于单个表达式的一部分并且之间只有空格的字符串将被隐式地转换为单个字符串。"
   ]
  },
  {
   "cell_type": "markdown",
   "metadata": {},
   "source": [
    "字符串实现了所有序列的公共方法，并增加了许多额外的方法。\n",
    "\n",
    "string method有："
   ]
  },
  {
   "cell_type": "markdown",
   "metadata": {},
   "source": [
    "# 1. str.capitalize()\n",
    "将字符串的第一个字符大写，剩下的字符小写。如果第一个字符不是字符，则第一个字符不发生改变。"
   ]
  },
  {
   "cell_type": "code",
   "execution_count": 4,
   "metadata": {},
   "outputs": [
    {
     "name": "stdout",
     "output_type": "stream",
     "text": [
      "Xy\n",
      "1x\n",
      " x\n",
      " x\n"
     ]
    }
   ],
   "source": [
    "str1 = 'xY'\n",
    "str2 = '1x'\n",
    "str3 = ' x'\n",
    "str4 = ' X'\n",
    "print(str1.capitalize())\n",
    "print(str2.capitalize())\n",
    "print(str3.capitalize())\n",
    "print(str4.capitalize())"
   ]
  },
  {
   "cell_type": "markdown",
   "metadata": {},
   "source": [
    "# 2. str.casefold()\n",
    "返回一个字符串的casefolded拷贝，casefolded字符串可以被用于caseless匹配。\n",
    "\n",
    "Casefolding类似于小写，但是更进一步，因为它移除在字符串中的所有差异。\n",
    "\n",
    "例如，德语的小写字母`'ß'`对应于\"ss\"，由于它`'ß'`已经是小写，所以lower()将不做任何事，但casefold()会将它转换为\"ss\"。"
   ]
  },
  {
   "cell_type": "code",
   "execution_count": 11,
   "metadata": {},
   "outputs": [
    {
     "name": "stdout",
     "output_type": "stream",
     "text": [
      "ss\n",
      "ß\n"
     ]
    }
   ],
   "source": [
    "str1 = 'ß'\n",
    "print(str1.casefold())\n",
    "print(str1.lower())"
   ]
  },
  {
   "cell_type": "markdown",
   "metadata": {},
   "source": [
    "# 3. str.center(width[, fillchar])\n",
    "返回长度为width的字符串，若width大于len(s)，则用fillchar（默认空格）填充，并将s放在中心位置。\n",
    "\n",
    "如果width小于或等于len(str),则返回原字符串。"
   ]
  },
  {
   "cell_type": "code",
   "execution_count": 7,
   "metadata": {},
   "outputs": [
    {
     "name": "stdout",
     "output_type": "stream",
     "text": [
      "12345\n",
      "12345\n",
      " 12345 \n",
      "--12345--\n"
     ]
    }
   ],
   "source": [
    "str1 = '12345'\n",
    "print(str1.center(3))\n",
    "print(str1.center(5))\n",
    "print(str1.center(7))\n",
    "print(str1.center(9,'-'))"
   ]
  },
  {
   "cell_type": "markdown",
   "metadata": {},
   "source": [
    "# 4. str.count(sub[, start[, end]])\n",
    "返回sub在str[start:end]中出现的次数，可选参数start和end用于限制返回。"
   ]
  },
  {
   "cell_type": "code",
   "execution_count": 14,
   "metadata": {},
   "outputs": [
    {
     "name": "stdout",
     "output_type": "stream",
     "text": [
      "1\n",
      "0\n"
     ]
    }
   ],
   "source": [
    "str1 = '123456789'\n",
    "print(str1.count('1'))\n",
    "print(str1.count('2',0,1))"
   ]
  },
  {
   "cell_type": "markdown",
   "metadata": {},
   "source": [
    "# 5.  str.encode(encoding=\"utf-8\", errors=\"strict\") \n",
    "返回一个使用encoding编码的bytes对象。"
   ]
  },
  {
   "cell_type": "markdown",
   "metadata": {},
   "source": [
    "# 6. str.endswith(suffix[, start[, end]])\n",
    "   如果字符串以`suffix`结尾，则返回`True`，`suffix`可以是一个元组，只要其中一个元素匹配则返回`True`."
   ]
  },
  {
   "cell_type": "code",
   "execution_count": 15,
   "metadata": {},
   "outputs": [
    {
     "name": "stdout",
     "output_type": "stream",
     "text": [
      "False\n",
      "True\n",
      "False\n",
      "True\n"
     ]
    }
   ],
   "source": [
    "str1 = '123456789'\n",
    "str2 = '99'\n",
    "str3 = '89'\n",
    "str4 = ''\n",
    "print(str1.endswith(str2))\n",
    "print(str1.endswith(str3))\n",
    "print(str1.endswith(str3,7,8))\n",
    "print(str1.endswith((str2,str3)))"
   ]
  },
  {
   "cell_type": "markdown",
   "metadata": {},
   "source": [
    "# 7. str.expandtabs(tabsize=8)\n",
    "返回一个str的拷贝，其中所有的tab字符被一个或者多个空格代替，依靠指定的tabsize，默认8。"
   ]
  },
  {
   "cell_type": "code",
   "execution_count": 17,
   "metadata": {},
   "outputs": [
    {
     "name": "stdout",
     "output_type": "stream",
     "text": [
      "01      012     0123    01234\n",
      "01  012 0123    01234\n"
     ]
    }
   ],
   "source": [
    "print('01\\t012\\t0123\\t01234'.expandtabs())\n",
    "print('01\\t012\\t0123\\t01234'.expandtabs(4))"
   ]
  },
  {
   "cell_type": "markdown",
   "metadata": {},
   "source": [
    "# 8. str.find(sub[, start[, end]])\n",
    "返回sub在str中被发现的最小索引，如果未发现则返回-1。\n",
    "注意find应该只用于查询sub的位置，如果判断sub是否在字符串中，用in操作即可。"
   ]
  },
  {
   "cell_type": "code",
   "execution_count": 19,
   "metadata": {},
   "outputs": [
    {
     "name": "stdout",
     "output_type": "stream",
     "text": [
      "2\n",
      "-1\n"
     ]
    }
   ],
   "source": [
    "str1 = '123456789'\n",
    "str2 = '3456'\n",
    "print(str1.find(str2))\n",
    "print(str1.find(str2*2,))"
   ]
  },
  {
   "cell_type": "markdown",
   "metadata": {},
   "source": [
    "# 9. str.format(*args, **kwargs)\n",
    "执行字符串的格式化操作。使用该方法的字符串能够使用括号{}包含的替换域，每个替换域或者使用位置编号，或者使用变量名，\n",
    "\n",
    "返回字符串的拷贝，并且所有替换域都被替换。"
   ]
  },
  {
   "cell_type": "code",
   "execution_count": 22,
   "metadata": {},
   "outputs": [
    {
     "name": "stdout",
     "output_type": "stream",
     "text": [
      "Adam is a good boy. but Bob does not think so.Bob thinks Adam is a bad guy.\n"
     ]
    }
   ],
   "source": [
    "print('{0} is a good boy. but {1} does not think so.{1} thinks {0} is a bad guy.'.format('Adam', 'Bob'))"
   ]
  },
  {
   "cell_type": "markdown",
   "metadata": {},
   "source": [
    "# 10. str.format_map(mapping)\n",
    "在3.2版本中添加,`Similar to str.format(**mapping), except that mapping is used directly and not copied to a dict. This is useful if for example mapping is a dict subclass:`"
   ]
  },
  {
   "cell_type": "markdown",
   "metadata": {},
   "source": [
    "# 11. str.index(sub[, start[, end]])\n",
    "同find()，除了当子串未发现时抛出[ValueError]()异常。"
   ]
  },
  {
   "cell_type": "code",
   "execution_count": 24,
   "metadata": {},
   "outputs": [
    {
     "name": "stdout",
     "output_type": "stream",
     "text": [
      "0\n"
     ]
    },
    {
     "ename": "ValueError",
     "evalue": "substring not found",
     "output_type": "error",
     "traceback": [
      "\u001b[1;31m---------------------------------------------------------------------------\u001b[0m",
      "\u001b[1;31mValueError\u001b[0m                                Traceback (most recent call last)",
      "\u001b[1;32m<ipython-input-24-427a19e164c7>\u001b[0m in \u001b[0;36m<module>\u001b[1;34m()\u001b[0m\n\u001b[0;32m      2\u001b[0m \u001b[0mstr2\u001b[0m \u001b[1;33m=\u001b[0m \u001b[1;34m'123'\u001b[0m\u001b[1;33m\u001b[0m\u001b[0m\n\u001b[0;32m      3\u001b[0m \u001b[0mprint\u001b[0m\u001b[1;33m(\u001b[0m\u001b[0mstr1\u001b[0m\u001b[1;33m.\u001b[0m\u001b[0mindex\u001b[0m\u001b[1;33m(\u001b[0m\u001b[0mstr2\u001b[0m\u001b[1;33m)\u001b[0m\u001b[1;33m)\u001b[0m\u001b[1;33m\u001b[0m\u001b[0m\n\u001b[1;32m----> 4\u001b[1;33m \u001b[0mprint\u001b[0m\u001b[1;33m(\u001b[0m\u001b[0mstr1\u001b[0m\u001b[1;33m.\u001b[0m\u001b[0mindex\u001b[0m\u001b[1;33m(\u001b[0m\u001b[0mstr2\u001b[0m\u001b[1;33m*\u001b[0m\u001b[1;36m2\u001b[0m\u001b[1;33m)\u001b[0m\u001b[1;33m)\u001b[0m\u001b[1;33m\u001b[0m\u001b[0m\n\u001b[0m",
      "\u001b[1;31mValueError\u001b[0m: substring not found"
     ]
    }
   ],
   "source": [
    "str1 = '123456789'\n",
    "str2 = '123'\n",
    "print(str1.index(str2))\n",
    "print(str1.index(str2*2))"
   ]
  },
  {
   "cell_type": "markdown",
   "metadata": {},
   "source": [
    "# 12. str.isalnum()\n",
    "如果字符串中的所有字符都是字母数字，则返回true，只要一个字符非字母数字，则返回false。\n",
    "\n",
    "字符c是字母数字，表示以下方法的其中之一返回true：c.isalpha()，c.isdecimal()，c.isdigit()或者 c.isnumeric()。"
   ]
  },
  {
   "cell_type": "code",
   "execution_count": 25,
   "metadata": {},
   "outputs": [
    {
     "name": "stdout",
     "output_type": "stream",
     "text": [
      "True\n",
      "True\n",
      "False\n"
     ]
    }
   ],
   "source": [
    "str1 = '123456789'\n",
    "str2 = '1a2b3c'\n",
    "str3 = ' 1a2b3c'\n",
    "print(str1.isalnum())\n",
    "print(str2.isalnum())\n",
    "print(str3.isalnum())"
   ]
  },
  {
   "cell_type": "markdown",
   "metadata": {},
   "source": [
    "# 13. str.isalpha()\n",
    "如果字符串中的所有字符都是字母，则返回true。"
   ]
  },
  {
   "cell_type": "code",
   "execution_count": 26,
   "metadata": {},
   "outputs": [
    {
     "name": "stdout",
     "output_type": "stream",
     "text": [
      "False\n"
     ]
    }
   ],
   "source": [
    "print(str1.isalpha())"
   ]
  },
  {
   "cell_type": "markdown",
   "metadata": {},
   "source": [
    "# 14. str.isdecimal()\n",
    "如果字符串中的所有字符都是十进制数字，则返回true。"
   ]
  },
  {
   "cell_type": "code",
   "execution_count": 27,
   "metadata": {},
   "outputs": [
    {
     "name": "stdout",
     "output_type": "stream",
     "text": [
      "True\n"
     ]
    }
   ],
   "source": [
    "print(str1.isdecimal())"
   ]
  },
  {
   "cell_type": "markdown",
   "metadata": {},
   "source": [
    "# 15. str.isdigit()\n",
    "如果字符串中的所有字符都是数字，则返回true。"
   ]
  },
  {
   "cell_type": "code",
   "execution_count": 28,
   "metadata": {},
   "outputs": [
    {
     "data": {
      "text/plain": [
       "True"
      ]
     },
     "execution_count": 28,
     "metadata": {},
     "output_type": "execute_result"
    }
   ],
   "source": [
    "str1.isdigit()"
   ]
  },
  {
   "cell_type": "markdown",
   "metadata": {},
   "source": [
    "# 16. str.isidentifier()\n",
    "字符串是否是有效的标识符。"
   ]
  },
  {
   "cell_type": "code",
   "execution_count": 29,
   "metadata": {},
   "outputs": [
    {
     "data": {
      "text/plain": [
       "False"
      ]
     },
     "execution_count": 29,
     "metadata": {},
     "output_type": "execute_result"
    }
   ],
   "source": [
    "str1.isidentifier()"
   ]
  },
  {
   "cell_type": "markdown",
   "metadata": {},
   "source": [
    "# 17. str.islower()\n",
    "如果字符串中所有的字符都是小写字母，则返回true。"
   ]
  },
  {
   "cell_type": "code",
   "execution_count": 30,
   "metadata": {},
   "outputs": [
    {
     "data": {
      "text/plain": [
       "False"
      ]
     },
     "execution_count": 30,
     "metadata": {},
     "output_type": "execute_result"
    }
   ],
   "source": [
    "str1.islower()"
   ]
  },
  {
   "cell_type": "markdown",
   "metadata": {},
   "source": [
    "# 18. str.isnumeric()\n",
    "如果字符串中所有的字符都是数字字符，则返回true。"
   ]
  },
  {
   "cell_type": "code",
   "execution_count": 31,
   "metadata": {},
   "outputs": [
    {
     "data": {
      "text/plain": [
       "True"
      ]
     },
     "execution_count": 31,
     "metadata": {},
     "output_type": "execute_result"
    }
   ],
   "source": [
    "str1.isnumeric()"
   ]
  },
  {
   "cell_type": "markdown",
   "metadata": {},
   "source": [
    "# 19. str.isprintable()\n",
    "如果字符串为空，或者字符串中的数字都是可打印的，则返回true。不可打印的字符包括unicode字符集中标注为\"Other\"和\"Separator\"的。"
   ]
  },
  {
   "cell_type": "code",
   "execution_count": 32,
   "metadata": {},
   "outputs": [
    {
     "data": {
      "text/plain": [
       "True"
      ]
     },
     "execution_count": 32,
     "metadata": {},
     "output_type": "execute_result"
    }
   ],
   "source": [
    "str1.isprintable()"
   ]
  },
  {
   "cell_type": "markdown",
   "metadata": {},
   "source": [
    "# 20. str.isspace()\n",
    "如果字符串中全是空格，则返回true。"
   ]
  },
  {
   "cell_type": "code",
   "execution_count": 33,
   "metadata": {},
   "outputs": [
    {
     "data": {
      "text/plain": [
       "False"
      ]
     },
     "execution_count": 33,
     "metadata": {},
     "output_type": "execute_result"
    }
   ],
   "source": [
    "str1.isspace()"
   ]
  },
  {
   "cell_type": "markdown",
   "metadata": {},
   "source": [
    "# 21. str.istitle()\n",
    "\n",
    "如果字符串是title，则返回true，即首字母大写。"
   ]
  },
  {
   "cell_type": "code",
   "execution_count": 34,
   "metadata": {},
   "outputs": [
    {
     "data": {
      "text/plain": [
       "False"
      ]
     },
     "execution_count": 34,
     "metadata": {},
     "output_type": "execute_result"
    }
   ],
   "source": [
    "str1.istitle()"
   ]
  },
  {
   "cell_type": "markdown",
   "metadata": {},
   "source": [
    "# 22. str.isupper()\n",
    "\n",
    "如果字符串中字符全是大写，则返回true。"
   ]
  },
  {
   "cell_type": "code",
   "execution_count": 35,
   "metadata": {},
   "outputs": [
    {
     "data": {
      "text/plain": [
       "False"
      ]
     },
     "execution_count": 35,
     "metadata": {},
     "output_type": "execute_result"
    }
   ],
   "source": [
    "str1.isupper()"
   ]
  },
  {
   "cell_type": "markdown",
   "metadata": {},
   "source": [
    "# 23. str.join(iterable)\n",
    "\n",
    "返回`iterable`中元素联合的字符串，`iterable`中元素使用`str`分隔。如果`iterable`存在非str的元素，则抛出[TypeError]()异常。"
   ]
  },
  {
   "cell_type": "code",
   "execution_count": 36,
   "metadata": {},
   "outputs": [
    {
     "data": {
      "text/plain": [
       "'a-b-c'"
      ]
     },
     "execution_count": 36,
     "metadata": {},
     "output_type": "execute_result"
    }
   ],
   "source": [
    "iter = ['a','b','c']\n",
    "'-'.join(iter)"
   ]
  },
  {
   "cell_type": "markdown",
   "metadata": {},
   "source": []
  },
  {
   "cell_type": "markdown",
   "metadata": {},
   "source": []
  },
  {
   "cell_type": "markdown",
   "metadata": {},
   "source": []
  },
  {
   "cell_type": "markdown",
   "metadata": {},
   "source": []
  },
  {
   "cell_type": "markdown",
   "metadata": {},
   "source": []
  },
  {
   "cell_type": "markdown",
   "metadata": {},
   "source": []
  },
  {
   "cell_type": "markdown",
   "metadata": {},
   "source": []
  },
  {
   "cell_type": "markdown",
   "metadata": {},
   "source": []
  },
  {
   "cell_type": "markdown",
   "metadata": {},
   "source": []
  },
  {
   "cell_type": "markdown",
   "metadata": {},
   "source": []
  },
  {
   "cell_type": "markdown",
   "metadata": {},
   "source": []
  },
  {
   "cell_type": "markdown",
   "metadata": {},
   "source": []
  },
  {
   "cell_type": "markdown",
   "metadata": {},
   "source": []
  },
  {
   "cell_type": "markdown",
   "metadata": {},
   "source": []
  },
  {
   "cell_type": "markdown",
   "metadata": {},
   "source": []
  },
  {
   "cell_type": "markdown",
   "metadata": {},
   "source": []
  },
  {
   "cell_type": "markdown",
   "metadata": {},
   "source": []
  },
  {
   "cell_type": "markdown",
   "metadata": {},
   "source": []
  },
  {
   "cell_type": "markdown",
   "metadata": {},
   "source": []
  },
  {
   "cell_type": "markdown",
   "metadata": {},
   "source": []
  }
 ],
 "metadata": {
  "kernelspec": {
   "display_name": "Python 3",
   "language": "python",
   "name": "python3"
  },
  "language_info": {
   "codemirror_mode": {
    "name": "ipython",
    "version": 3
   },
   "file_extension": ".py",
   "mimetype": "text/x-python",
   "name": "python",
   "nbconvert_exporter": "python",
   "pygments_lexer": "ipython3",
   "version": "3.6.1"
  }
 },
 "nbformat": 4,
 "nbformat_minor": 2
}
