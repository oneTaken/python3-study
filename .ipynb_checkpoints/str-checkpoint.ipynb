{
 "cells": [
  {
   "cell_type": "markdown",
   "metadata": {},
   "source": [
    "官方教程[传送门](https://docs.python.org/3/library/stdtypes.html#str)，[官方教程极好中文翻译](http://blog.csdn.net/tomato__/article/details/44856677)，\n",
    "在Python中，字符串对应对象str，字符串是使用Unicode编码的不可变序列。\n",
    "字符串可以使用下面几种语法：\n",
    "\n",
    "    1. 单引号：'allows embedded \"double\" quotes'\n",
    "    2. 双引号：\"allows embedded 'single' quotes\"\n",
    "    3. 三引号：'''Three single quotes''', \"\"\"Three double quotes\"\"\"\n",
    "三引号的字符串可以在多行扩展——所有空格都将被包含在字符串中。\n",
    "\n",
    "对于单个表达式的一部分并且之间只有空格的字符串将被隐式地转换为单个字符串。"
   ]
  },
  {
   "cell_type": "markdown",
   "metadata": {},
   "source": [
    "字符串实现了所有序列的公共方法，并增加了许多额外的方法。\n",
    "\n",
    "string method有："
   ]
  },
  {
   "cell_type": "markdown",
   "metadata": {},
   "source": [
    "||functions||\n",
    "|----------|----------|--------------|--------------|-------------|\n",
    "|capitalize()|casefold()|center()|count|encode()|\n",
    "|endswith()|expandtabs()|find()|format()|format_map()|\n",
    "|index()|isalnum()|isalpha()|isdecimal()|isdigit()|\n",
    "|isidentifier()|islower()|isnumeric()|isprintable()|\n",
    "|isspace()|istitle()|isupper()|join()|ljust()|\n",
    "|lower()|lstrip()|maketrans()|partition()|replace()|\n",
    "|rfind()|rindex()|rjust()|rpartition()|rsplit()|\n",
    "|rstrip()|split()|splitlines()|startswith()|strip()|\n",
    "|swapcase()|title()|translate()|upper()|zfill()|"
   ]
  },
  {
   "cell_type": "code",
   "execution_count": 1,
   "metadata": {
    "scrolled": true
   },
   "outputs": [
    {
     "data": {
      "text/plain": [
       "['__add__',\n",
       " '__class__',\n",
       " '__contains__',\n",
       " '__delattr__',\n",
       " '__dir__',\n",
       " '__doc__',\n",
       " '__eq__',\n",
       " '__format__',\n",
       " '__ge__',\n",
       " '__getattribute__',\n",
       " '__getitem__',\n",
       " '__getnewargs__',\n",
       " '__gt__',\n",
       " '__hash__',\n",
       " '__init__',\n",
       " '__init_subclass__',\n",
       " '__iter__',\n",
       " '__le__',\n",
       " '__len__',\n",
       " '__lt__',\n",
       " '__mod__',\n",
       " '__mul__',\n",
       " '__ne__',\n",
       " '__new__',\n",
       " '__reduce__',\n",
       " '__reduce_ex__',\n",
       " '__repr__',\n",
       " '__rmod__',\n",
       " '__rmul__',\n",
       " '__setattr__',\n",
       " '__sizeof__',\n",
       " '__str__',\n",
       " '__subclasshook__',\n",
       " 'capitalize',\n",
       " 'casefold',\n",
       " 'center',\n",
       " 'count',\n",
       " 'encode',\n",
       " 'endswith',\n",
       " 'expandtabs',\n",
       " 'find',\n",
       " 'format',\n",
       " 'format_map',\n",
       " 'index',\n",
       " 'isalnum',\n",
       " 'isalpha',\n",
       " 'isdecimal',\n",
       " 'isdigit',\n",
       " 'isidentifier',\n",
       " 'islower',\n",
       " 'isnumeric',\n",
       " 'isprintable',\n",
       " 'isspace',\n",
       " 'istitle',\n",
       " 'isupper',\n",
       " 'join',\n",
       " 'ljust',\n",
       " 'lower',\n",
       " 'lstrip',\n",
       " 'maketrans',\n",
       " 'partition',\n",
       " 'replace',\n",
       " 'rfind',\n",
       " 'rindex',\n",
       " 'rjust',\n",
       " 'rpartition',\n",
       " 'rsplit',\n",
       " 'rstrip',\n",
       " 'split',\n",
       " 'splitlines',\n",
       " 'startswith',\n",
       " 'strip',\n",
       " 'swapcase',\n",
       " 'title',\n",
       " 'translate',\n",
       " 'upper',\n",
       " 'zfill']"
      ]
     },
     "execution_count": 1,
     "metadata": {},
     "output_type": "execute_result"
    }
   ],
   "source": [
    "dir('')"
   ]
  },
  {
   "cell_type": "markdown",
   "metadata": {},
   "source": [
    "# 1. str.capitalize()\n",
    "将字符串的第一个字符大写，剩下的字符小写。如果第一个字符不是字符，则第一个字符不发生改变。"
   ]
  },
  {
   "cell_type": "code",
   "execution_count": 68,
   "metadata": {},
   "outputs": [
    {
     "name": "stdout",
     "output_type": "stream",
     "text": [
      "Xy\n",
      "1x\n",
      " x\n",
      " x\n"
     ]
    }
   ],
   "source": [
    "str1 = 'xY'\n",
    "str2 = '1x'\n",
    "str3 = ' x'\n",
    "str4 = ' X'\n",
    "print(str1.capitalize())\n",
    "print(str2.capitalize())\n",
    "print(str3.capitalize())\n",
    "print(str4.capitalize())"
   ]
  },
  {
   "cell_type": "markdown",
   "metadata": {},
   "source": [
    "# 2. str.casefold()\n",
    "返回一个字符串的casefolded拷贝，casefolded字符串可以被用于caseless匹配。\n",
    "\n",
    "Casefolding类似于小写，但是更进一步，因为它移除在字符串中的所有差异。\n",
    "\n",
    "例如，德语的小写字母`'ß'`对应于\"ss\"，由于它`'ß'`已经是小写，所以lower()将不做任何事，但casefold()会将它转换为\"ss\"。"
   ]
  },
  {
   "cell_type": "code",
   "execution_count": 69,
   "metadata": {},
   "outputs": [
    {
     "name": "stdout",
     "output_type": "stream",
     "text": [
      "ss\n",
      "ß\n"
     ]
    }
   ],
   "source": [
    "str1 = 'ß'\n",
    "print(str1.casefold())\n",
    "print(str1.lower())"
   ]
  },
  {
   "cell_type": "markdown",
   "metadata": {},
   "source": [
    "# 3. str.center(width[, fillchar])\n",
    "返回长度为width的字符串，若width大于len(s)，则用fillchar（默认空格）填充，并将s放在中心位置。\n",
    "\n",
    "如果width小于或等于len(str),则返回原字符串。"
   ]
  },
  {
   "cell_type": "code",
   "execution_count": 3,
   "metadata": {},
   "outputs": [
    {
     "name": "stdout",
     "output_type": "stream",
     "text": [
      "12345\n",
      "12345\n",
      " 12345 \n",
      "--12345--\n"
     ]
    }
   ],
   "source": [
    "str1 = '12345'\n",
    "print(str1.center(3))\n",
    "print(str1.center(5))\n",
    "print(str1.center(7))\n",
    "print(str1.center(9,'-'))"
   ]
  },
  {
   "cell_type": "markdown",
   "metadata": {},
   "source": [
    "# 4. str.count(sub[, start[, end]])\n",
    "返回sub在str[start:end]中出现的次数，可选参数start和end用于限制返回。"
   ]
  },
  {
   "cell_type": "code",
   "execution_count": 4,
   "metadata": {},
   "outputs": [
    {
     "name": "stdout",
     "output_type": "stream",
     "text": [
      "1\n",
      "0\n"
     ]
    }
   ],
   "source": [
    "str1 = '123456789'\n",
    "print(str1.count('1'))\n",
    "print(str1.count('2', 0, 1))"
   ]
  },
  {
   "cell_type": "markdown",
   "metadata": {},
   "source": [
    "# 5.  str.encode(encoding=\"utf-8\", errors=\"strict\") \n",
    "返回一个使用encoding编码的bytes对象。"
   ]
  },
  {
   "cell_type": "markdown",
   "metadata": {},
   "source": [
    "# 6. str.endswith(suffix[, start[, end]])\n",
    "   如果字符串以`suffix`结尾，则返回`True`，`suffix`可以是一个元组，只要其中一个元素匹配则返回`True`."
   ]
  },
  {
   "cell_type": "code",
   "execution_count": 5,
   "metadata": {},
   "outputs": [
    {
     "name": "stdout",
     "output_type": "stream",
     "text": [
      "False\n",
      "True\n",
      "False\n",
      "True\n"
     ]
    }
   ],
   "source": [
    "str1 = '123456789'\n",
    "str2 = '99'\n",
    "str3 = '89'\n",
    "str4 = ''\n",
    "print(str1.endswith(str2))\n",
    "print(str1.endswith(str3))\n",
    "print(str1.endswith(str3,7,8))\n",
    "print(str1.endswith((str2,str3)))"
   ]
  },
  {
   "cell_type": "markdown",
   "metadata": {},
   "source": [
    "# 7. str.expandtabs(tabsize=8)\n",
    "返回一个str的拷贝，其中所有的tab字符被一个或者多个空格代替，依靠指定的tabsize，默认8。"
   ]
  },
  {
   "cell_type": "code",
   "execution_count": 6,
   "metadata": {},
   "outputs": [
    {
     "name": "stdout",
     "output_type": "stream",
     "text": [
      "01      012     0123    01234\n",
      "01  012 0123    01234\n"
     ]
    }
   ],
   "source": [
    "print('01\\t012\\t0123\\t01234'.expandtabs())\n",
    "print('01\\t012\\t0123\\t01234'.expandtabs(4))"
   ]
  },
  {
   "cell_type": "markdown",
   "metadata": {},
   "source": [
    "# 8. str.find(sub[, start[, end]])\n",
    "返回sub在str中被发现的最小索引，如果未发现则返回-1。\n",
    "注意find应该只用于查询sub的位置，如果判断sub是否在字符串中，用in操作即可。"
   ]
  },
  {
   "cell_type": "code",
   "execution_count": 7,
   "metadata": {},
   "outputs": [
    {
     "name": "stdout",
     "output_type": "stream",
     "text": [
      "2\n",
      "-1\n"
     ]
    }
   ],
   "source": [
    "str1 = '123456789'\n",
    "str2 = '3456'\n",
    "print(str1.find(str2))\n",
    "print(str1.find(str2*2,))"
   ]
  },
  {
   "cell_type": "markdown",
   "metadata": {},
   "source": [
    "# 9. str.format(*args, **kwargs)\n",
    "执行字符串的格式化操作。使用该方法的字符串能够使用括号{}包含的替换域，每个替换域或者使用位置编号，或者使用变量名，\n",
    "\n",
    "返回字符串的拷贝，并且所有替换域都被替换。"
   ]
  },
  {
   "cell_type": "code",
   "execution_count": 8,
   "metadata": {},
   "outputs": [
    {
     "name": "stdout",
     "output_type": "stream",
     "text": [
      "Adam is a good boy. but Bob does not think so.Bob thinks Adam is a bad guy.\n"
     ]
    }
   ],
   "source": [
    "print('{0} is a good boy. but {1} does not think so.{1} thinks {0} is a bad guy.'.format('Adam', 'Bob'))"
   ]
  },
  {
   "cell_type": "markdown",
   "metadata": {},
   "source": [
    "# 10. str.format_map(mapping)\n",
    "在3.2版本中添加,`Similar to str.format(**mapping), except that mapping is used directly and not copied to a dict. This is useful if for example mapping is a dict subclass:`"
   ]
  },
  {
   "cell_type": "markdown",
   "metadata": {},
   "source": [
    "# 11. str.index(sub[, start[, end]])\n",
    "同find()，除了当子串未发现时抛出[ValueError]()异常。"
   ]
  },
  {
   "cell_type": "code",
   "execution_count": 9,
   "metadata": {},
   "outputs": [
    {
     "name": "stdout",
     "output_type": "stream",
     "text": [
      "0\n"
     ]
    },
    {
     "ename": "ValueError",
     "evalue": "substring not found",
     "output_type": "error",
     "traceback": [
      "\u001b[1;31m---------------------------------------------------------------------------\u001b[0m",
      "\u001b[1;31mValueError\u001b[0m                                Traceback (most recent call last)",
      "\u001b[1;32m<ipython-input-9-427a19e164c7>\u001b[0m in \u001b[0;36m<module>\u001b[1;34m()\u001b[0m\n\u001b[0;32m      2\u001b[0m \u001b[0mstr2\u001b[0m \u001b[1;33m=\u001b[0m \u001b[1;34m'123'\u001b[0m\u001b[1;33m\u001b[0m\u001b[0m\n\u001b[0;32m      3\u001b[0m \u001b[0mprint\u001b[0m\u001b[1;33m(\u001b[0m\u001b[0mstr1\u001b[0m\u001b[1;33m.\u001b[0m\u001b[0mindex\u001b[0m\u001b[1;33m(\u001b[0m\u001b[0mstr2\u001b[0m\u001b[1;33m)\u001b[0m\u001b[1;33m)\u001b[0m\u001b[1;33m\u001b[0m\u001b[0m\n\u001b[1;32m----> 4\u001b[1;33m \u001b[0mprint\u001b[0m\u001b[1;33m(\u001b[0m\u001b[0mstr1\u001b[0m\u001b[1;33m.\u001b[0m\u001b[0mindex\u001b[0m\u001b[1;33m(\u001b[0m\u001b[0mstr2\u001b[0m\u001b[1;33m*\u001b[0m\u001b[1;36m2\u001b[0m\u001b[1;33m)\u001b[0m\u001b[1;33m)\u001b[0m\u001b[1;33m\u001b[0m\u001b[0m\n\u001b[0m",
      "\u001b[1;31mValueError\u001b[0m: substring not found"
     ]
    }
   ],
   "source": [
    "str1 = '123456789'\n",
    "str2 = '123'\n",
    "print(str1.index(str2))\n",
    "print(str1.index(str2*2))"
   ]
  },
  {
   "cell_type": "markdown",
   "metadata": {},
   "source": [
    "# 12. str.isalnum()\n",
    "如果字符串中的所有字符都是字母数字，则返回true，只要一个字符非字母数字，则返回false。\n",
    "\n",
    "字符c是字母数字，表示以下方法的其中之一返回true：c.isalpha()，c.isdecimal()，c.isdigit()或者 c.isnumeric()。"
   ]
  },
  {
   "cell_type": "code",
   "execution_count": 10,
   "metadata": {},
   "outputs": [
    {
     "name": "stdout",
     "output_type": "stream",
     "text": [
      "True\n",
      "True\n",
      "False\n"
     ]
    }
   ],
   "source": [
    "str1 = '123456789'\n",
    "str2 = '1a2b3c'\n",
    "str3 = ' 1a2b3c'\n",
    "print(str1.isalnum())\n",
    "print(str2.isalnum())\n",
    "print(str3.isalnum())"
   ]
  },
  {
   "cell_type": "markdown",
   "metadata": {},
   "source": [
    "# 13. str.isalpha()\n",
    "如果字符串中的所有字符都是字母，则返回true。"
   ]
  },
  {
   "cell_type": "code",
   "execution_count": 11,
   "metadata": {},
   "outputs": [
    {
     "name": "stdout",
     "output_type": "stream",
     "text": [
      "False\n"
     ]
    }
   ],
   "source": [
    "print(str1.isalpha())"
   ]
  },
  {
   "cell_type": "markdown",
   "metadata": {},
   "source": [
    "# 14. str.isdecimal()\n",
    "如果字符串中的所有字符都是十进制数字，则返回true。"
   ]
  },
  {
   "cell_type": "code",
   "execution_count": 12,
   "metadata": {},
   "outputs": [
    {
     "name": "stdout",
     "output_type": "stream",
     "text": [
      "True\n"
     ]
    }
   ],
   "source": [
    "print(str1.isdecimal())"
   ]
  },
  {
   "cell_type": "markdown",
   "metadata": {},
   "source": [
    "# 15. str.isdigit()\n",
    "如果字符串中的所有字符都是数字，则返回true。"
   ]
  },
  {
   "cell_type": "code",
   "execution_count": 13,
   "metadata": {},
   "outputs": [
    {
     "data": {
      "text/plain": [
       "True"
      ]
     },
     "execution_count": 13,
     "metadata": {},
     "output_type": "execute_result"
    }
   ],
   "source": [
    "str1.isdigit()"
   ]
  },
  {
   "cell_type": "markdown",
   "metadata": {},
   "source": [
    "# 16. str.isidentifier()\n",
    "字符串是否是有效的标识符。"
   ]
  },
  {
   "cell_type": "code",
   "execution_count": 14,
   "metadata": {},
   "outputs": [
    {
     "data": {
      "text/plain": [
       "False"
      ]
     },
     "execution_count": 14,
     "metadata": {},
     "output_type": "execute_result"
    }
   ],
   "source": [
    "str1.isidentifier()"
   ]
  },
  {
   "cell_type": "markdown",
   "metadata": {},
   "source": [
    "# 17. str.islower()\n",
    "如果字符串中所有的字符都是小写字母，则返回true。"
   ]
  },
  {
   "cell_type": "code",
   "execution_count": 15,
   "metadata": {},
   "outputs": [
    {
     "data": {
      "text/plain": [
       "False"
      ]
     },
     "execution_count": 15,
     "metadata": {},
     "output_type": "execute_result"
    }
   ],
   "source": [
    "str1.islower()"
   ]
  },
  {
   "cell_type": "markdown",
   "metadata": {},
   "source": [
    "# 18. str.isnumeric()\n",
    "如果字符串中所有的字符都是数字字符，则返回true。"
   ]
  },
  {
   "cell_type": "code",
   "execution_count": 16,
   "metadata": {},
   "outputs": [
    {
     "data": {
      "text/plain": [
       "True"
      ]
     },
     "execution_count": 16,
     "metadata": {},
     "output_type": "execute_result"
    }
   ],
   "source": [
    "str1.isnumeric()"
   ]
  },
  {
   "cell_type": "markdown",
   "metadata": {},
   "source": [
    "# 19. str.isprintable()\n",
    "如果字符串为空，或者字符串中的数字都是可打印的，则返回true。不可打印的字符包括unicode字符集中标注为\"Other\"和\"Separator\"的。"
   ]
  },
  {
   "cell_type": "code",
   "execution_count": 17,
   "metadata": {},
   "outputs": [
    {
     "data": {
      "text/plain": [
       "True"
      ]
     },
     "execution_count": 17,
     "metadata": {},
     "output_type": "execute_result"
    }
   ],
   "source": [
    "str1.isprintable()"
   ]
  },
  {
   "cell_type": "markdown",
   "metadata": {},
   "source": [
    "# 20. str.isspace()\n",
    "如果字符串中全是空格，则返回true。"
   ]
  },
  {
   "cell_type": "code",
   "execution_count": 18,
   "metadata": {},
   "outputs": [
    {
     "data": {
      "text/plain": [
       "False"
      ]
     },
     "execution_count": 18,
     "metadata": {},
     "output_type": "execute_result"
    }
   ],
   "source": [
    "str1.isspace()"
   ]
  },
  {
   "cell_type": "markdown",
   "metadata": {},
   "source": [
    "# 21. str.istitle()\n",
    "\n",
    "如果字符串是title，则返回true，即首字母大写。"
   ]
  },
  {
   "cell_type": "code",
   "execution_count": 19,
   "metadata": {},
   "outputs": [
    {
     "data": {
      "text/plain": [
       "False"
      ]
     },
     "execution_count": 19,
     "metadata": {},
     "output_type": "execute_result"
    }
   ],
   "source": [
    "str1.istitle()"
   ]
  },
  {
   "cell_type": "markdown",
   "metadata": {},
   "source": [
    "# 22. str.isupper()\n",
    "\n",
    "如果字符串中字符全是大写，则返回true。"
   ]
  },
  {
   "cell_type": "code",
   "execution_count": 20,
   "metadata": {},
   "outputs": [
    {
     "data": {
      "text/plain": [
       "False"
      ]
     },
     "execution_count": 20,
     "metadata": {},
     "output_type": "execute_result"
    }
   ],
   "source": [
    "str1.isupper()"
   ]
  },
  {
   "cell_type": "markdown",
   "metadata": {},
   "source": [
    "# 23. str.join(iterable)\n",
    "\n",
    "返回`iterable`中元素联合的字符串，`iterable`中元素使用`str`分隔。如果`iterable`存在非str的元素，则抛出[TypeError]()异常。"
   ]
  },
  {
   "cell_type": "code",
   "execution_count": 21,
   "metadata": {},
   "outputs": [
    {
     "data": {
      "text/plain": [
       "'a-b-c'"
      ]
     },
     "execution_count": 21,
     "metadata": {},
     "output_type": "execute_result"
    }
   ],
   "source": [
    "iter = ['a','b','c']\n",
    "'-'.join(iter)"
   ]
  },
  {
   "cell_type": "markdown",
   "metadata": {},
   "source": [
    "# 24. str.ljust(width[, fillchar])\n",
    "\n",
    "返回一个做适配长度`width`的字符串，空白使用`fillchar`填充，如果字符串长度大于等于`width`，原始字符串被返回。\n",
    "`fillchar` 必须为单一字符，否则报[TypeError]()"
   ]
  },
  {
   "cell_type": "code",
   "execution_count": 23,
   "metadata": {},
   "outputs": [
    {
     "name": "stdout",
     "output_type": "stream",
     "text": [
      "123456789\n",
      "123456789   \n",
      "123456789%%%%%%\n"
     ]
    },
    {
     "ename": "TypeError",
     "evalue": "The fill character must be exactly one character long",
     "output_type": "error",
     "traceback": [
      "\u001b[1;31m---------------------------------------------------------------------------\u001b[0m",
      "\u001b[1;31mTypeError\u001b[0m                                 Traceback (most recent call last)",
      "\u001b[1;32m<ipython-input-23-9ac97e02eea4>\u001b[0m in \u001b[0;36m<module>\u001b[1;34m()\u001b[0m\n\u001b[0;32m      2\u001b[0m \u001b[0mprint\u001b[0m\u001b[1;33m(\u001b[0m\u001b[0mstr1\u001b[0m\u001b[1;33m.\u001b[0m\u001b[0mljust\u001b[0m\u001b[1;33m(\u001b[0m\u001b[1;36m12\u001b[0m\u001b[1;33m)\u001b[0m\u001b[1;33m)\u001b[0m\u001b[1;33m\u001b[0m\u001b[0m\n\u001b[0;32m      3\u001b[0m \u001b[0mprint\u001b[0m\u001b[1;33m(\u001b[0m\u001b[0mstr1\u001b[0m\u001b[1;33m.\u001b[0m\u001b[0mljust\u001b[0m\u001b[1;33m(\u001b[0m\u001b[1;36m15\u001b[0m\u001b[1;33m,\u001b[0m\u001b[1;34m'%'\u001b[0m\u001b[1;33m)\u001b[0m\u001b[1;33m)\u001b[0m\u001b[1;33m\u001b[0m\u001b[0m\n\u001b[1;32m----> 4\u001b[1;33m \u001b[0mprint\u001b[0m\u001b[1;33m(\u001b[0m\u001b[0mstr1\u001b[0m\u001b[1;33m.\u001b[0m\u001b[0mljust\u001b[0m\u001b[1;33m(\u001b[0m\u001b[1;36m15\u001b[0m\u001b[1;33m,\u001b[0m\u001b[1;34m'-*'\u001b[0m\u001b[1;33m)\u001b[0m\u001b[1;33m)\u001b[0m\u001b[1;33m\u001b[0m\u001b[0m\n\u001b[0m",
      "\u001b[1;31mTypeError\u001b[0m: The fill character must be exactly one character long"
     ]
    }
   ],
   "source": [
    "print(str1.ljust(3))\n",
    "print(str1.ljust(12))\n",
    "print(str1.ljust(15,'%'))\n",
    "print(str1.ljust(15,'-*'))"
   ]
  },
  {
   "cell_type": "markdown",
   "metadata": {},
   "source": [
    "# 25. str.lower()\n",
    "返回一个所有字符中字母小写的str的拷贝。"
   ]
  },
  {
   "cell_type": "code",
   "execution_count": 26,
   "metadata": {},
   "outputs": [
    {
     "name": "stdout",
     "output_type": "stream",
     "text": [
      "123456789\n",
      "123456789abcd\n"
     ]
    }
   ],
   "source": [
    "print(str1.lower())\n",
    "print((str1+'ABcd').lower())"
   ]
  },
  {
   "cell_type": "markdown",
   "metadata": {},
   "source": [
    "# 26. str.lstrip([chars])\n",
    "返回移除指定起始字符的str的拷贝，如果chars不指定，则默认移除空格。"
   ]
  },
  {
   "cell_type": "code",
   "execution_count": 27,
   "metadata": {},
   "outputs": [
    {
     "name": "stdout",
     "output_type": "stream",
     "text": [
      "123456789\n",
      "3456789\n"
     ]
    }
   ],
   "source": [
    "print(str1.lstrip())\n",
    "print(str1.lstrip('12'))"
   ]
  },
  {
   "cell_type": "markdown",
   "metadata": {},
   "source": [
    "# 27. static str.maketrans(x[, y[, z]])\n",
    "静态方法，用于为str.translate()生成一个转换表。\n",
    "如果只有一个参数，则参数必须为字典；如果两个参数，则必须是等长的字符串；\n",
    "\n",
    "如果为3个参数，则第三个参数必须为字符串，并且该字符串的字符将被匹配为None。"
   ]
  },
  {
   "cell_type": "code",
   "execution_count": 28,
   "metadata": {},
   "outputs": [
    {
     "data": {
      "text/plain": [
       "{97: 65, 98: 66, 99: 67, 100: None, 101: None, 102: None}"
      ]
     },
     "execution_count": 28,
     "metadata": {},
     "output_type": "execute_result"
    }
   ],
   "source": [
    "str.maketrans({'a':'A','b':'B'})\n",
    "{97: 'A', 98: 'B'}\n",
    "str.maketrans('abc','ABC')\n",
    "{97: 65, 98: 66, 99: 67}\n",
    "str.maketrans('abc','ABC','def')\n",
    "{97: 65, 98: 66, 99: 67, 100: None, 101: None, 102: None}"
   ]
  },
  {
   "cell_type": "markdown",
   "metadata": {},
   "source": [
    "# 28. str.partition(sep)\n",
    "\n",
    "从第一个出现的sep部分分离字符串，得到一个3个元素的元组：sep之前的部分、sep、sep之后的部分。\n",
    "\n",
    "如果sep未找到，仍然返回一个3个元素的元组：str、空字符串、空字符串。"
   ]
  },
  {
   "cell_type": "code",
   "execution_count": 29,
   "metadata": {},
   "outputs": [
    {
     "name": "stdout",
     "output_type": "stream",
     "text": [
      "('1', '23', '456789')\n",
      "('123456789', '', '')\n"
     ]
    }
   ],
   "source": [
    "print(str1.partition('23'))\n",
    "print(str1.partition('235'))"
   ]
  },
  {
   "cell_type": "markdown",
   "metadata": {},
   "source": [
    "# 29. str.replace(old, new[, count])\n",
    "\n",
    "返回一个新的字符串，其中所有old都被new代替，count用于指定只替换前count个。"
   ]
  },
  {
   "cell_type": "code",
   "execution_count": 31,
   "metadata": {},
   "outputs": [
    {
     "name": "stdout",
     "output_type": "stream",
     "text": [
      "112233456789\n",
      "21456789\n"
     ]
    }
   ],
   "source": [
    "print(str1.replace('123','112233'))\n",
    "print(str1.replace('123','21',3))"
   ]
  },
  {
   "cell_type": "markdown",
   "metadata": {},
   "source": [
    "# 30. str.rfind(sub[, start[, end]])\n",
    "返回sub在str中最后出现的索引号，返回-1表示未找到。"
   ]
  },
  {
   "cell_type": "code",
   "execution_count": 34,
   "metadata": {},
   "outputs": [
    {
     "name": "stdout",
     "output_type": "stream",
     "text": [
      "3\n",
      "5\n",
      "-1\n",
      "2\n"
     ]
    }
   ],
   "source": [
    "str2 = '223344'\n",
    "print(str2.rfind('3'))\n",
    "print(str2.rfind('4'))\n",
    "print(str2.rfind('5'))\n",
    "print(str2.find('3'))"
   ]
  },
  {
   "cell_type": "markdown",
   "metadata": {},
   "source": [
    "# 31. str.rindex(sub[, start[, end]])\n",
    "同`rfind`，但如果`sub`未找到，则抛出[ValueError]()。"
   ]
  },
  {
   "cell_type": "code",
   "execution_count": 36,
   "metadata": {},
   "outputs": [
    {
     "ename": "ValueError",
     "evalue": "substring not found",
     "output_type": "error",
     "traceback": [
      "\u001b[1;31m---------------------------------------------------------------------------\u001b[0m",
      "\u001b[1;31mValueError\u001b[0m                                Traceback (most recent call last)",
      "\u001b[1;32m<ipython-input-36-0a487806e5a1>\u001b[0m in \u001b[0;36m<module>\u001b[1;34m()\u001b[0m\n\u001b[1;32m----> 1\u001b[1;33m \u001b[0mstr2\u001b[0m\u001b[1;33m.\u001b[0m\u001b[0mrindex\u001b[0m\u001b[1;33m(\u001b[0m\u001b[1;34m'5'\u001b[0m\u001b[1;33m)\u001b[0m\u001b[1;33m\u001b[0m\u001b[0m\n\u001b[0m",
      "\u001b[1;31mValueError\u001b[0m: substring not found"
     ]
    }
   ],
   "source": [
    "str2.rindex('5')"
   ]
  },
  {
   "cell_type": "markdown",
   "metadata": {},
   "source": [
    "# 32. str.rjust(width[, fillchar])\n",
    "看`ljust`，`rjust`表示右适配。"
   ]
  },
  {
   "cell_type": "code",
   "execution_count": 39,
   "metadata": {},
   "outputs": [
    {
     "name": "stdout",
     "output_type": "stream",
     "text": [
      "123456789\n",
      "---123456789\n",
      "000123456789\n",
      "000123456789\n"
     ]
    }
   ],
   "source": [
    "print(str1.rjust(5))\n",
    "print(str1.rjust(12,'-'))\n",
    "print(str1.zfill(12))\n",
    "print(str1.rjust(12,'0'))"
   ]
  },
  {
   "cell_type": "markdown",
   "metadata": {},
   "source": [
    "# 33. str.rpartition(sep)\n",
    "看partition，rpartition表示从右查找sep。"
   ]
  },
  {
   "cell_type": "code",
   "execution_count": 40,
   "metadata": {},
   "outputs": [
    {
     "name": "stdout",
     "output_type": "stream",
     "text": [
      "('', '12', '1212')\n",
      "('1212', '12', '')\n"
     ]
    }
   ],
   "source": [
    "str2 = '121212'\n",
    "print(str2.partition('12'))\n",
    "print(str2.rpartition('12'))"
   ]
  },
  {
   "cell_type": "markdown",
   "metadata": {},
   "source": [
    "# 33. str.rsplit(sep=None, maxsplit=-1)\n",
    "\n",
    "使用`sep`分隔`str`，`maxsplit`表示最大的划分数，`sep`不指定或为`None`，则使用空格分隔`str`。"
   ]
  },
  {
   "cell_type": "code",
   "execution_count": 44,
   "metadata": {},
   "outputs": [
    {
     "name": "stdout",
     "output_type": "stream",
     "text": [
      "['', '3', '', '3', '']\n",
      "['12312123', '']\n"
     ]
    }
   ],
   "source": [
    "str2 = '1231212312'\n",
    "print(str2.rsplit('12'))\n",
    "print(str2.rsplit('12',1))"
   ]
  },
  {
   "cell_type": "markdown",
   "metadata": {},
   "source": [
    "# 34. str.rstrip([chars])\n",
    "返回str的拷贝，末尾的字符被移除，默认移除空格，chars表示移除的字符集。"
   ]
  },
  {
   "cell_type": "code",
   "execution_count": 45,
   "metadata": {},
   "outputs": [
    {
     "name": "stdout",
     "output_type": "stream",
     "text": [
      "123456789\n",
      "12345678\n"
     ]
    }
   ],
   "source": [
    "print(str1.strip())\n",
    "print(str1.strip('9'))"
   ]
  },
  {
   "cell_type": "markdown",
   "metadata": {},
   "source": [
    "# 35. str.split(sep=None, maxsplit=-1)\n",
    "看`rsplit`，返回一个使用`sep`分隔的列表，`sep`未指定则使用空格分隔。`maxsplit`表示最大分隔次数。\n",
    "如果`str`中没有`sep`，则返回由原字符串形成的列表。"
   ]
  },
  {
   "cell_type": "code",
   "execution_count": 46,
   "metadata": {},
   "outputs": [
    {
     "name": "stdout",
     "output_type": "stream",
     "text": [
      "['1234', '6789']\n",
      "['123456789']\n"
     ]
    }
   ],
   "source": [
    "print(str1.split('5'))\n",
    "print(str1.split('11'))"
   ]
  },
  {
   "cell_type": "markdown",
   "metadata": {},
   "source": [
    "# 36. str.splitlines([keepends])\n",
    "\n",
    "使用那个行结束符分隔`str`，返回一个行列表。`keepends`默认为`false`，表示行分隔符不包含在结果列表中。\n",
    "\n",
    "需要注意的是，`split`会在`\\n`在首尾的情况下，添加一个空字符串。"
   ]
  },
  {
   "cell_type": "code",
   "execution_count": 59,
   "metadata": {},
   "outputs": [
    {
     "name": "stdout",
     "output_type": "stream",
     "text": [
      "['', '12', '12', '12']\n",
      "['\\n', '12\\n', '12\\n', '12\\n']\n",
      "['', '12', '12', '12', '']\n"
     ]
    }
   ],
   "source": [
    "str2 = '\\n12\\n12\\n12\\n'\n",
    "print(str2.splitlines())\n",
    "print(str2.splitlines(True))\n",
    "print(str2.split('\\n'))"
   ]
  },
  {
   "cell_type": "markdown",
   "metadata": {},
   "source": [
    "# 37. str.startswith(prefix[, start[, end]])\n",
    "字符串如果以prefix开头，则返回true；prefix可以是一个元组。"
   ]
  },
  {
   "cell_type": "code",
   "execution_count": 50,
   "metadata": {},
   "outputs": [
    {
     "name": "stdout",
     "output_type": "stream",
     "text": [
      "True\n",
      "False\n",
      "False\n",
      "True\n"
     ]
    }
   ],
   "source": [
    "print(str1.startswith('123'))\n",
    "print(str1.startswith('123',0,2))\n",
    "print(str1.startswith('13'))\n",
    "print(str1.startswith(('123','13')))"
   ]
  },
  {
   "cell_type": "markdown",
   "metadata": {},
   "source": [
    "# 38. str.strip([chars])\n",
    "返回str的拷贝，并移除首尾字符chars（默认为空白字符）。\n",
    "空白字符有{'\\n', '\\r', '\\t', ' '}。\n",
    "  > The outermost leading and trailing chars argument values are stripped from the string. \n",
    "  Characters are removed from the leading end until reaching a string character that is not contained in the set of characters in chars.\n",
    "  A similar action takes place on the trailing end.\n",
    "\n",
    "在给定`chars`的时候，去除首部的字符时，一直去除到`str`中字符不在`chars`中。"
   ]
  },
  {
   "cell_type": "code",
   "execution_count": 56,
   "metadata": {},
   "outputs": [
    {
     "name": "stdout",
     "output_type": "stream",
     "text": [
      "123123\n",
      "3123\n",
      "\n",
      "123123\n",
      "123123\n",
      "True\n",
      "example\n"
     ]
    }
   ],
   "source": [
    "str2 = '123123\\n'\n",
    "str3 = '123123  '\n",
    "print(str2.strip())\n",
    "print(str2.strip('12'))\n",
    "print(str2.strip('\\n'))\n",
    "print(str3.strip())\n",
    "print(str2.strip() == str3.strip())\n",
    "print('www.example.com'.strip('cmowz.'))"
   ]
  },
  {
   "cell_type": "code",
   "execution_count": 80,
   "metadata": {},
   "outputs": [
    {
     "data": {
      "text/plain": [
       "'www.example.'"
      ]
     },
     "execution_count": 80,
     "metadata": {},
     "output_type": "execute_result"
    }
   ],
   "source": [
    "'www.example.com'.strip('cmo')"
   ]
  },
  {
   "cell_type": "markdown",
   "metadata": {},
   "source": [
    "# 39. str.swapcase()\n",
    "返回str的拷贝，并转换大小写，注意s.swapcase().swapcase() == s。"
   ]
  },
  {
   "cell_type": "code",
   "execution_count": 60,
   "metadata": {},
   "outputs": [
    {
     "name": "stdout",
     "output_type": "stream",
     "text": [
      "12aBAA\n",
      "12Abaa\n"
     ]
    }
   ],
   "source": [
    "str2 = '12Abaa'\n",
    "print(str2.swapcase())\n",
    "print(str2.swapcase().swapcase())"
   ]
  },
  {
   "cell_type": "markdown",
   "metadata": {},
   "source": [
    "# 40. str.title()\n",
    "返回str的拷贝，每个单词的首字母大写，其余字母小写。"
   ]
  },
  {
   "cell_type": "code",
   "execution_count": 63,
   "metadata": {},
   "outputs": [
    {
     "name": "stdout",
     "output_type": "stream",
     "text": [
      "Alice Is A Good Girl.\n",
      "True\n",
      "Alice Is a Good Girl.\n"
     ]
    }
   ],
   "source": [
    "str2 = 'alice is a good girl.'\n",
    "print(str2.title())\n",
    "print(str2.title().istitle())\n",
    "print(str2.title().replace(' A ', ' a '))"
   ]
  },
  {
   "cell_type": "markdown",
   "metadata": {},
   "source": [
    "# 41. str.translate(map)\n",
    "对应看`maketrans`。返回str的拷贝，其中所有的字符都使用map做了映射。"
   ]
  },
  {
   "cell_type": "markdown",
   "metadata": {},
   "source": [
    "# 42. str.upper()\n",
    "返回str的拷贝，其中的字母字符都被转换到大写。\n",
    "注意如果str中包含了无大小写形式（uncased）的字符，str.upper().isupper()会得到false。"
   ]
  },
  {
   "cell_type": "code",
   "execution_count": 64,
   "metadata": {},
   "outputs": [
    {
     "name": "stdout",
     "output_type": "stream",
     "text": [
      "True\n",
      "1A\n"
     ]
    }
   ],
   "source": [
    "print('1A'.isupper())\n",
    "print('1a'.upper())"
   ]
  },
  {
   "cell_type": "markdown",
   "metadata": {},
   "source": [
    "# 43. str.zfill(width)\n",
    "\n",
    "返回一个str的拷贝，长度为width，左边用0填充。如果`width`小于`str`的长度，则返回原字符串。\n",
    "\n",
    "如果str以'+'/'-'开头，则从'+'/'-'之后开始填充。"
   ]
  },
  {
   "cell_type": "code",
   "execution_count": 66,
   "metadata": {},
   "outputs": [
    {
     "data": {
      "text/plain": [
       "'-0120'"
      ]
     },
     "execution_count": 66,
     "metadata": {},
     "output_type": "execute_result"
    }
   ],
   "source": [
    "str2 = '-120'\n",
    "print(str2.zfill(2))\n",
    "print(str2.zfill(5))"
   ]
  },
  {
   "cell_type": "code",
   "execution_count": null,
   "metadata": {
    "collapsed": true
   },
   "outputs": [],
   "source": []
  }
 ],
 "metadata": {
  "kernelspec": {
   "display_name": "Python 3",
   "language": "python",
   "name": "python3"
  },
  "language_info": {
   "codemirror_mode": {
    "name": "ipython",
    "version": 3
   },
   "file_extension": ".py",
   "mimetype": "text/x-python",
   "name": "python",
   "nbconvert_exporter": "python",
   "pygments_lexer": "ipython3",
   "version": "3.6.1"
  }
 },
 "nbformat": 4,
 "nbformat_minor": 1
}
