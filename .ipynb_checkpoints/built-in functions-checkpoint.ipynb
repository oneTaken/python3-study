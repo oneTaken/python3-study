{
 "cells": [
  {
   "cell_type": "markdown",
   "metadata": {},
   "source": [
    "python3内置函数学习，参考资料[官方资料](https://docs.python.org/3/library/functions.html)，[教程1](http://www.cnblogs.com/xiao1/p/5856890.html)，[教程2](http://blog.csdn.net/lisonglisonglisong/article/details/38960341)。\n",
    "\n",
    "|   |   | **内置函数** |  |  |\n",
    "| :-----------           |:-----------| :-----------| :----------- | :----------- |\n",
    "| abs() | dict()| help() | min() | setattr() |\n",
    "| all() | dir() | hex() | next() | slice()|\n",
    "| any() | divmod() | id() | object() | sorted() |\n",
    "| ascii()| enumerate() | input() | oct() | staticmenthod() |\n",
    "| bin() | eval() | int() | open() | str() |\n",
    "| bool() | exec() | isinstance() | ord() | sum() | \n",
    "| bytearray() | filter() | issubclass() | pow() | super() |\n",
    "| bytes() | float() | iter() | print() | tuple() |\n",
    "| callable() | format() | len() | property() | type() |\n",
    "| chr() | frozenset() | list() | range() | vars() |\n",
    "| classmethod() | getattr() | locals() | repr() | zip() |\n",
    "| compile() | globals() | map() | reversed() | \\_\\_import\\_\\_() |\n",
    "| complex() | hasattr() | max() | round() | \n",
    "| delattr() | hash() | memoryview() | set() |\n"
   ]
  },
  {
   "cell_type": "markdown",
   "metadata": {},
   "source": [
    "# 1. abs(x)\n",
    "\n",
    "## 功能：\n",
    "   返回一个整数或浮点数的绝对值，如果是复数，返回它的模。如果是其他类型，则raise [TypeError]()."
   ]
  },
  {
   "cell_type": "code",
   "execution_count": 23,
   "metadata": {},
   "outputs": [
    {
     "name": "stdout",
     "output_type": "stream",
     "text": [
      "abs(1) is 1\n",
      "abs(1.1) is 1.1\n",
      "abs((1+1j)) is 1.4142135623730951\n"
     ]
    }
   ],
   "source": [
    "x = 1\n",
    "y = 1.1\n",
    "z = complex(1, 1)\n",
    "print('abs({}) is {}'.format(x, abs(x)))\n",
    "print('abs({}) is {}'.format(y, abs(y)))\n",
    "print('abs({}) is {}'.format(z, abs(z)))\n",
    "# print(abs(str(1)))"
   ]
  },
  {
   "cell_type": "markdown",
   "metadata": {},
   "source": [
    "# 2. all(iterable)\n",
    "## 功能：\n",
    "   当 iterable 中所有元素都为 `True` 时（或者 iterable 为空），返回 `True` 。\n",
    "   涉及知识点，1.[iterable是什么类型](),2.[什么时候返回True]()"
   ]
  },
  {
   "cell_type": "code",
   "execution_count": 24,
   "metadata": {},
   "outputs": [
    {
     "name": "stdout",
     "output_type": "stream",
     "text": [
      "all(['python', 123]) is True\n",
      "all([]) is True\n",
      "all(['0']) is True\n",
      "all([0]) is False\n"
     ]
    }
   ],
   "source": [
    "tmp_1 = ['python',123]\n",
    "print('all({}) is {}'.format(tmp_1, all(tmp_1)))\n",
    "tmp_2 = []\n",
    "print('all({}) is {}'.format(tmp_2, all(tmp_2)))\n",
    "tmp_3 = ['0']\n",
    "print('all({}) is {}'.format(tmp_3, all(tmp_3)))\n",
    "tmp_4 = [0]\n",
    "print('all({}) is {}'.format(tmp_4, all(tmp_4)))"
   ]
  },
  {
   "cell_type": "markdown",
   "metadata": {},
   "source": [
    "# 3. any(iterable)\n",
    "## 功能：\n",
    "    当 iterable 中有元素为 True 时，则返回 True 。如果 iterable 为空，返回 False 。"
   ]
  },
  {
   "cell_type": "code",
   "execution_count": 25,
   "metadata": {},
   "outputs": [
    {
     "name": "stdout",
     "output_type": "stream",
     "text": [
      "any([]) is False\n",
      "any(['']) is False\n",
      "any([0]) is False\n",
      "any(['0', 0]) is True\n"
     ]
    }
   ],
   "source": [
    "tmp_1 = []\n",
    "print('any({}) is {}'.format(tmp_1, any(tmp_1)))\n",
    "tmp_2 = ['']\n",
    "print('any({}) is {}'.format(tmp_2,any(tmp_2)))\n",
    "tmp_3 = [0]\n",
    "print('any({}) is {}'.format(tmp_3, any(tmp_3)))\n",
    "tmp_4 = ['0',0]\n",
    "print('any({}) is {}'.format(tmp_4, any(tmp_4)))"
   ]
  },
  {
   "cell_type": "markdown",
   "metadata": {},
   "source": [
    "all() 与any()差异:\n",
    "官方文档给出的描述为：\n",
    "[all()](https://docs.python.org/3/library/functions.html#all) 等价于:\n",
    "```python\n",
    "def all(iterable):\n",
    "    for element in iterable:\n",
    "        if not element:\n",
    "            return False\n",
    "    return True\n",
    "```\n",
    "[any()](https://docs.python.org/3/library/functions.html#any) 等价于：\n",
    "```python\n",
    "def any(iterable):\n",
    "    for element in iterable:\n",
    "        if element:\n",
    "            return True\n",
    "    return False\n",
    "```\n",
    "由此可以看出，当`iterable`为空时，all(iterable)返回`True`, any(iterable)返回`False`"
   ]
  },
  {
   "cell_type": "markdown",
   "metadata": {},
   "source": [
    "# 4. ascii(object)\n",
    "## 功能：\n",
    "类似于repr()，返回一个输入对象的可打印的字符串。"
   ]
  },
  {
   "cell_type": "code",
   "execution_count": 26,
   "metadata": {},
   "outputs": [
    {
     "data": {
      "text/plain": [
       "'10'"
      ]
     },
     "execution_count": 26,
     "metadata": {},
     "output_type": "execute_result"
    }
   ],
   "source": [
    "ascii(x)\n",
    "ascii(10)"
   ]
  },
  {
   "cell_type": "markdown",
   "metadata": {},
   "source": [
    "# 5. bin(x)\n",
    "## 功能：\n",
    "将整数 x 转化为一个二进制字符串。当 x 不是 python int 对象时，x 必须实现```__index__()```方法来返回一个整型数值。否则，报[TypeError]()"
   ]
  },
  {
   "cell_type": "code",
   "execution_count": 27,
   "metadata": {},
   "outputs": [
    {
     "name": "stdout",
     "output_type": "stream",
     "text": [
      "0b1\n"
     ]
    },
    {
     "ename": "TypeError",
     "evalue": "'float' object cannot be interpreted as an integer",
     "output_type": "error",
     "traceback": [
      "\u001b[1;31m---------------------------------------------------------------------------\u001b[0m",
      "\u001b[1;31mTypeError\u001b[0m                                 Traceback (most recent call last)",
      "\u001b[1;32m<ipython-input-27-af5de4c0f83a>\u001b[0m in \u001b[0;36m<module>\u001b[1;34m()\u001b[0m\n\u001b[0;32m      1\u001b[0m \u001b[0mprint\u001b[0m\u001b[1;33m(\u001b[0m\u001b[0mbin\u001b[0m\u001b[1;33m(\u001b[0m\u001b[1;36m1\u001b[0m\u001b[1;33m)\u001b[0m\u001b[1;33m)\u001b[0m\u001b[1;33m\u001b[0m\u001b[0m\n\u001b[1;32m----> 2\u001b[1;33m \u001b[0mprint\u001b[0m\u001b[1;33m(\u001b[0m\u001b[0mbin\u001b[0m\u001b[1;33m(\u001b[0m\u001b[1;36m1.0\u001b[0m\u001b[1;33m)\u001b[0m\u001b[1;33m)\u001b[0m\u001b[1;33m\u001b[0m\u001b[0m\n\u001b[0m",
      "\u001b[1;31mTypeError\u001b[0m: 'float' object cannot be interpreted as an integer"
     ]
    }
   ],
   "source": [
    "print(bin(1))\n",
    "print(bin(1.0))"
   ]
  },
  {
   "cell_type": "markdown",
   "metadata": {},
   "source": [
    "# 6. *class* bool([x])\n",
    "## 功能：\n",
    "将一个值转换成一个boolean类型的值，省略 x 将返回 False."
   ]
  },
  {
   "cell_type": "code",
   "execution_count": null,
   "metadata": {},
   "outputs": [],
   "source": [
    "print(bool())\n",
    "print(bool(0))\n",
    "print(bool(1))"
   ]
  },
  {
   "cell_type": "markdown",
   "metadata": {},
   "source": [
    "# 7. *class* bytearray([source[,encoding[,errors]]])\n",
    "\n",
    "\n",
    "## 功能：\n",
    " bytearray的构造函数。bytearray类型是一个可变的整数序列（0 <= 整数 < 256），即字节数组.\n"
   ]
  },
  {
   "cell_type": "markdown",
   "metadata": {},
   "source": [
    "# 8. class bytes([source[,encoding[,errors]]])\n",
    "\n",
    "## 功能：\n",
    "字节对象（bytes object）的构造函数。bytes是bytearray的不可变版本."
   ]
  },
  {
   "cell_type": "markdown",
   "metadata": {},
   "source": [
    "# 9. callable(object)\n",
    "## 官方释义：\n",
    "## 功能描述：\n",
    "判断一个对象是否可调用，如果一个实例的类实现了`__call()__`方法，则它是可以调用的。"
   ]
  },
  {
   "cell_type": "code",
   "execution_count": null,
   "metadata": {},
   "outputs": [],
   "source": [
    "print(callable(int))\n",
    "print(callable(list))\n",
    "print(callable(bool))\n",
    "# dir(bool)\n",
    "bool.__call__"
   ]
  },
  {
   "cell_type": "markdown",
   "metadata": {},
   "source": [
    "# 10. chr(i)\n",
    "## 功能：\n",
    "返回编码值 i 对应的字符（str类型），i 的有效值为 0 到 1114111。与ord()正好相反。"
   ]
  },
  {
   "cell_type": "code",
   "execution_count": null,
   "metadata": {
    "collapsed": true
   },
   "outputs": [],
   "source": [
    "print(chr(15))\n",
    "print(chr(1))\n",
    "print(chr(20))\n",
    "print(chr(100))\n",
    "print(chr(1114111))\n",
    "print(chr(0))\n",
    "print(chr(114112))"
   ]
  },
  {
   "cell_type": "markdown",
   "metadata": {},
   "source": [
    "# 11. classmethod(function)\n",
    "## 功能：\n",
    "用来指定一个方法为类的方法，由类直接调用执行，只有一个cls参数,执行类的方法时，自动将调用该方法的类赋值给cls。\n",
    "没有此参数指定的类的方法为实例方法。"
   ]
  },
  {
   "cell_type": "code",
   "execution_count": null,
   "metadata": {
    "collapsed": true
   },
   "outputs": [],
   "source": [
    "class Province:\n",
    "    country = \"中国\"\n",
    "      \n",
    "    def __init__(self, name):\n",
    "        self.name = name\n",
    "      \n",
    "    @classmethod\n",
    "    def show(cls):  # 类方法，由类调用，最少要有一个参数cls，调用的时候这个参数不用传值，自动将类名赋值给cls\n",
    "        print(cls)\n",
    "        print(cls.country)\n",
    "      \n",
    "# 调用方法\n",
    "Province.show()"
   ]
  },
  {
   "cell_type": "markdown",
   "metadata": {},
   "source": [
    "# 12. compile(source, filename, mode, flags=0, dont_inherit=False, optimize=-1)\n",
    "功能：\n",
    "编译一个源，返回一个代码对象，该代码对象可以用来作为exec()或者eval()的参数。\n",
    "\n",
    "将字符串编译成python能识别或可以执行的代码，也可以将文字读成字符串再编译。"
   ]
  },
  {
   "cell_type": "markdown",
   "metadata": {},
   "source": [
    "# 13. class complex([real[, imag]])\n",
    "function:\n",
    "复数的构造函数，re 为返回复数对象的实数部分，im 为虚数部分。"
   ]
  },
  {
   "cell_type": "code",
   "execution_count": null,
   "metadata": {},
   "outputs": [],
   "source": [
    "complex(1,0)"
   ]
  },
  {
   "cell_type": "markdown",
   "metadata": {},
   "source": [
    "# 14. delattr(object, name)\n",
    "function:\n",
    "删除一个对象的属性，相当于del object.name。"
   ]
  },
  {
   "cell_type": "markdown",
   "metadata": {},
   "source": [
    "# 15. class dict(**kwarg)\n",
    "function:\n",
    "字典类型的构造函数。"
   ]
  },
  {
   "cell_type": "markdown",
   "metadata": {},
   "source": [
    "# 16. dir([object])\n",
    "function:\n",
    "返回一个包含了 object 所有属性的列表对象，如果没有参数，则包含当前作用域的所用属性。"
   ]
  },
  {
   "cell_type": "code",
   "execution_count": null,
   "metadata": {
    "collapsed": true
   },
   "outputs": [],
   "source": [
    "import os\n",
    "# dir()\n",
    "# dir(os.getcwd())"
   ]
  },
  {
   "cell_type": "markdown",
   "metadata": {},
   "source": [
    "# 17. divmod(a, b)\n",
    "function:\n",
    "返回一个元组(a//b, a%b)"
   ]
  },
  {
   "cell_type": "code",
   "execution_count": null,
   "metadata": {},
   "outputs": [],
   "source": [
    "divmod(3,5)"
   ]
  },
  {
   "cell_type": "markdown",
   "metadata": {},
   "source": [
    "# 18. enumerate(iterable, start=0)\n",
    "function:\n",
    "返回一个可迭代的 enumerate object，对其使用 next() 得到的是包含索引和元素的tuple，通常用于同时遍历索引和元素"
   ]
  },
  {
   "cell_type": "code",
   "execution_count": null,
   "metadata": {},
   "outputs": [],
   "source": [
    "for i , value in enumerate(tmp_3):\n",
    "    print(i)\n",
    "    print(value)"
   ]
  },
  {
   "cell_type": "markdown",
   "metadata": {},
   "source": [
    "# 18. eval(expression, globals=None, locals=None)\n",
    "function:\n",
    "执行一段代码，返回执行的结果。"
   ]
  },
  {
   "cell_type": "code",
   "execution_count": null,
   "metadata": {},
   "outputs": [],
   "source": [
    "x=1\n",
    "eval('x==1')"
   ]
  },
  {
   "cell_type": "markdown",
   "metadata": {},
   "source": [
    "# 19. exec(object[, globals[, locals]])\n",
    "function:\n",
    "执行字符串或complie方法编译过的字符串，返回值为None."
   ]
  },
  {
   "cell_type": "code",
   "execution_count": null,
   "metadata": {},
   "outputs": [],
   "source": [
    "print(exec('x+=1'))"
   ]
  },
  {
   "cell_type": "markdown",
   "metadata": {},
   "source": [
    "# 20. filter(function, iterable)\n",
    "function:\n",
    "过滤器，返回由使函数 function 返回True的 iterable 元素组成的迭代器。"
   ]
  },
  {
   "cell_type": "code",
   "execution_count": null,
   "metadata": {},
   "outputs": [],
   "source": [
    "lst = [1, 2, 3, 4, 5, 6, 7, 8]\n",
    "f = lambda x: x%2==0\n",
    "result = filter(f, lst)\n",
    "print(result)\n",
    "print(list(result))"
   ]
  },
  {
   "cell_type": "markdown",
   "metadata": {},
   "source": [
    "# 21. class float([x])\n",
    "function:\n",
    "返回一个浮点型的对象，无参时返回0.0."
   ]
  },
  {
   "cell_type": "code",
   "execution_count": null,
   "metadata": {},
   "outputs": [],
   "source": [
    "float(1)"
   ]
  },
  {
   "cell_type": "markdown",
   "metadata": {},
   "source": [
    "# 22. format(value[, format_spec])\n",
    "function:\n",
    "格式化一个值，当参数是一个自定义对象的时候，该对象需要实现__format__()方法。"
   ]
  },
  {
   "cell_type": "markdown",
   "metadata": {},
   "source": [
    "# 23.  class frozenset([iterable])\n",
    "function:\n",
    "frozenset 的构造函数。顾名思义，frozenset是一种 set 类型，且不可改变（没有add、remove等方法）。"
   ]
  },
  {
   "cell_type": "markdown",
   "metadata": {},
   "source": [
    "# 24. getattr(object, name[, default])\n",
    "function:\n",
    "获得对象的name属性，当该属性不存在的时候可以使用一个默认值作为返回值。"
   ]
  },
  {
   "cell_type": "markdown",
   "metadata": {},
   "source": [
    "# 25. globals()\n",
    "function:\n",
    "返回一个包含当前所有全局符号和对应值的字典。"
   ]
  },
  {
   "cell_type": "code",
   "execution_count": null,
   "metadata": {
    "collapsed": true
   },
   "outputs": [],
   "source": [
    "# globals()"
   ]
  },
  {
   "cell_type": "markdown",
   "metadata": {},
   "source": [
    "# 26. hasattr(object, name)\n",
    "function:\n",
    "判断对象是否有name属性。"
   ]
  },
  {
   "cell_type": "markdown",
   "metadata": {},
   "source": [
    "# 27. hash(object)\n",
    "function:\n",
    "返回对象的 hash 值，object 必须是可哈希的。注意：所有不可变的内置类型都是 hashable 的，比如 string，tuple；所有可变的内置类型都是 unhashable 的，比如 list，dict（即没有__hash__()方法）。"
   ]
  },
  {
   "cell_type": "markdown",
   "metadata": {},
   "source": [
    "# 28. help([object])\n",
    "function:\n",
    "查看一个对象的帮助文档。"
   ]
  },
  {
   "cell_type": "markdown",
   "metadata": {},
   "source": [
    "# 29. hex(x)\n",
    "function:\n",
    "将一个整数转为小写的十六进制字符串（以’0x’开头），如果不是int对象，需要定义 `__index__()`方法。"
   ]
  },
  {
   "cell_type": "markdown",
   "metadata": {},
   "source": [
    "# 30.  id(object)\n",
    "function:\n",
    "返回一个对象的 id 身份，可以看作该对象的内存地址。"
   ]
  },
  {
   "cell_type": "markdown",
   "metadata": {},
   "source": [
    "# 31. input([prompt])\n",
    "读取一行输入并返回一个字符串。"
   ]
  },
  {
   "cell_type": "code",
   "execution_count": null,
   "metadata": {},
   "outputs": [],
   "source": [
    "s = input('--> ')  \n",
    "# --> Monty Python's Flying Circus\n",
    "s  \n",
    "\"Monty Python's Flying Circus\""
   ]
  },
  {
   "cell_type": "markdown",
   "metadata": {},
   "source": [
    "# 32.  class int(x, base=10)\n",
    "返回相应进制的 int 值。"
   ]
  },
  {
   "cell_type": "code",
   "execution_count": null,
   "metadata": {},
   "outputs": [],
   "source": [
    "int(2.0)\n",
    "int(3.3)"
   ]
  },
  {
   "cell_type": "markdown",
   "metadata": {},
   "source": [
    "# 33. isinstance(object, classinfo)\n",
    "判断对象 object 是不是类 class 或其派生类的实例，返回`True`或`False`."
   ]
  },
  {
   "cell_type": "markdown",
   "metadata": {},
   "source": [
    "# 34. issubclass(class, classinfo)\n",
    "判断一个类是否是另一个类的子类,返回`True`或`False`."
   ]
  },
  {
   "cell_type": "markdown",
   "metadata": {},
   "source": [
    "# 34. iter(object[, sentinel])\n",
    "返回迭代器对象。"
   ]
  },
  {
   "cell_type": "markdown",
   "metadata": {},
   "source": [
    "# 35. len(s)\n",
    "返回一个长度值，与 object 中的\\_\\_len\\_\\_()有关。"
   ]
  },
  {
   "cell_type": "markdown",
   "metadata": {},
   "source": [
    "# 36. class list([iterable])\n",
    "list 的构造函数."
   ]
  },
  {
   "cell_type": "markdown",
   "metadata": {},
   "source": [
    "# 37. locals()\n",
    "返回一个包含当前局部符号和对应值的字典，与globals() 对应。\n"
   ]
  },
  {
   "cell_type": "markdown",
   "metadata": {},
   "source": [
    "# 38. map(function, iterable, ...)\n",
    "映射函数，将 iterable 中的每个元素应用到 function 函数，返回由所有结果组成的迭代器。"
   ]
  },
  {
   "cell_type": "markdown",
   "metadata": {},
   "source": [
    "# 39. max(arg1, arg2, *args[, key])\n",
    "返回最大值"
   ]
  },
  {
   "cell_type": "markdown",
   "metadata": {},
   "source": [
    "# 40. min(arg1, arg2, *args[, key])\n",
    "返回最小值。\n"
   ]
  },
  {
   "cell_type": "markdown",
   "metadata": {},
   "source": [
    "# 41. memoryview(obj)\n",
    "返回一个 memory view 对象。\n"
   ]
  },
  {
   "cell_type": "markdown",
   "metadata": {},
   "source": [
    "# 42. next(iterator[, default])\n",
    "产生下一个生成值，与\\_\\_next\\_\\_()有关。"
   ]
  },
  {
   "cell_type": "markdown",
   "metadata": {},
   "source": [
    "# 43. class object\n",
    "略"
   ]
  },
  {
   "cell_type": "markdown",
   "metadata": {},
   "source": [
    "# 44. oct(x)\n",
    "将一个整数转为一个八进制字符串。如果不是 int 对象，需要定义\\_\\_index\\_\\_()方法。"
   ]
  },
  {
   "cell_type": "markdown",
   "metadata": {},
   "source": [
    "# 45. open(file, mode='r', buffering=-1, encoding=None, errors=None, newline=None, closefd=True, opener=None)\n",
    "打开一个文件，返回对应的文件对象。"
   ]
  },
  {
   "cell_type": "markdown",
   "metadata": {},
   "source": [
    "# 46. ord(c)\n",
    "返回字符 c 的编码值，与chr(i)相反。"
   ]
  },
  {
   "cell_type": "markdown",
   "metadata": {},
   "source": [
    "# 47. pow(x, y[, z])\n",
    "`pow(x, y)`相当于`x**y`，`pow(x, y, z)`相当于`pow(x, y) % z`"
   ]
  },
  {
   "cell_type": "markdown",
   "metadata": {},
   "source": [
    "# 48. print(*objects, sep=' ', end='\\n', file=sys.stdout, flush=False)\n",
    "打印输出。"
   ]
  },
  {
   "cell_type": "markdown",
   "metadata": {},
   "source": [
    "# 49. class property(fget=None, fset=None, fdel=None, doc=None)\n",
    "函数 property() 的作用就是把类中的方法当作属性来访问。\n",
    "\n",
    "为了操作数据成员 \\_\\_x，我们需要使用 getx、setx、delx 方法，很麻烦。但是如果通过 property 函数将方法绑定到成员x，那么当获取成员x的值时，就会调用getx函数；当给成员x赋值时，就会调用setx函数；当删除x时，就会调用delx函数.使用property函数，这样通过 x 间接调用方法操作 \\_\\_x 就方便多了。"
   ]
  },
  {
   "cell_type": "code",
   "execution_count": null,
   "metadata": {
    "collapsed": true
   },
   "outputs": [],
   "source": [
    "class C:\n",
    "    def __init__(self):\n",
    "        self.__x = None\n",
    "\n",
    "    def getx(self):\n",
    "        return self.__x\n",
    "\n",
    "    def setx(self, value):\n",
    "        self.__x = value\n",
    "\n",
    "    def delx(self):\n",
    "        del self.__x\n",
    "        \n",
    "    x = property(getx, setx, delx, \"I'm the 'x' property.\")\n",
    "c = C()\n",
    "print(c.x)    # 相当于c.getx()\n",
    "c.x = 20      # 相当于c.setx(20)\n",
    "del c.x       # 相当于c.delx()"
   ]
  },
  {
   "cell_type": "markdown",
   "metadata": {},
   "source": [
    "# 50. range(start, stop[, step])\n",
    "返回一个序列。"
   ]
  },
  {
   "cell_type": "markdown",
   "metadata": {},
   "source": [
    "# 51. repr(object)\n",
    "将对象转化为可打印的字符串。\n"
   ]
  },
  {
   "cell_type": "markdown",
   "metadata": {},
   "source": [
    "# 52. reversed(seq)\n",
    "倒序序列，对象需要实现\\_\\_reversed\\_\\_()方法。"
   ]
  },
  {
   "cell_type": "markdown",
   "metadata": {},
   "source": [
    "# 53. round(number[, ndigits])\n",
    "把浮点数转变成指定小数位数的数，ndigits默认为0。"
   ]
  },
  {
   "cell_type": "code",
   "execution_count": null,
   "metadata": {},
   "outputs": [],
   "source": [
    "round(3.14159,3)"
   ]
  },
  {
   "cell_type": "markdown",
   "metadata": {},
   "source": [
    "# 54. class set([iterable])\n",
    " set 的构造函数.\n",
    " "
   ]
  },
  {
   "cell_type": "code",
   "execution_count": null,
   "metadata": {},
   "outputs": [],
   "source": [
    "x =set()\n",
    "y = {}\n",
    "z = dict()\n",
    "print(type(x))\n",
    "print(y)\n",
    "print(type(z))"
   ]
  },
  {
   "cell_type": "markdown",
   "metadata": {},
   "source": [
    "# 55. setattr(object, name, value)\n",
    "为一个对象的name属性设置一个value值。"
   ]
  },
  {
   "cell_type": "markdown",
   "metadata": {},
   "source": [
    "# 56. class slice(start, stop[, step])\n",
    "切片函数，分割一个可分割的对象，返回其中的一部分。"
   ]
  },
  {
   "cell_type": "markdown",
   "metadata": {},
   "source": [
    "# 57. sorted(iterable, *, key=None, reverse=False)\n",
    "返回一个排序好的迭代器。"
   ]
  },
  {
   "cell_type": "markdown",
   "metadata": {},
   "source": [
    "# 58. staticmethod(function)\n",
    "返回一个静态的方法。要知道，一个类的静态方法没有隐式的第一个 self 参数，因为静态方法是独立于实例对象的。"
   ]
  },
  {
   "cell_type": "code",
   "execution_count": null,
   "metadata": {},
   "outputs": [],
   "source": [
    "class C:\n",
    "    @staticmethod\n",
    "    def f(arg1, arg2):\n",
    "        pass"
   ]
  },
  {
   "cell_type": "markdown",
   "metadata": {},
   "source": [
    "# 59. class str(object=b'', encoding='utf-8', errors='strict')\n",
    "字符串的构造函数。"
   ]
  },
  {
   "cell_type": "markdown",
   "metadata": {},
   "source": [
    "# 60. sum(iterable[, start])\n",
    "求和。"
   ]
  },
  {
   "cell_type": "markdown",
   "metadata": {},
   "source": [
    "# 61. super([type[, object-or-type]])\n",
    "super() 常用于继承中调用父类的方法。例如，类的继承中，通常需要调用父类的构造方法，以初始化父类部分，有两种方法能达到这个目的。\n",
    "\n",
    "方法一：调用未绑定的父类构造方法"
   ]
  },
  {
   "cell_type": "code",
   "execution_count": null,
   "metadata": {
    "collapsed": true
   },
   "outputs": [],
   "source": [
    "class A:\n",
    "    def __init__(self):\n",
    "        self.a = 'A_method'\n",
    "\n",
    "class B:\n",
    "    def __init__(self):\n",
    "        self.b = 'B_method'\n",
    "\n",
    "class C(A, B):\n",
    "    def __init__(self):\n",
    "        A.__init__(self)\n",
    "        B.__init__(self)\n",
    "        # ...其他超类\n",
    "        self.c = 'C_method'"
   ]
  },
  {
   "cell_type": "markdown",
   "metadata": {},
   "source": [
    "方法二：使用super函数"
   ]
  },
  {
   "cell_type": "code",
   "execution_count": null,
   "metadata": {
    "collapsed": true
   },
   "outputs": [],
   "source": [
    "class A:\n",
    "    def __init__(self):\n",
    "        super().__init__()\n",
    "        self.a = 'A_method'\n",
    "\n",
    "class B:\n",
    "    def __init__(self):\n",
    "        super().__init__()\n",
    "        self.b = 'B_method'\n",
    "\n",
    "class C(A, B):\n",
    "    def __init__(self):\n",
    "        super().__init__()    # 等价于super(C,self).__init__()\n",
    "        self.c = 'C_method'"
   ]
  },
  {
   "cell_type": "markdown",
   "metadata": {},
   "source": [
    "可以看出，方法一更直观，但是方法二使用 super 函数可以一次初始化所有超类（但要确保所有的超类的构造方法都使用了super函数）。当继承结构很复杂时，方法二明显更适用，当然 super 不仅可以用于构造方法还可以用于其他方法。\n",
    "使用 super 还有一个好处，就是当改变父类名时，不需要再去修改其他地方，便于代码的维护。"
   ]
  },
  {
   "cell_type": "markdown",
   "metadata": {},
   "source": [
    "# 62. tuple([iterable])\n",
    "元组的构造函数。"
   ]
  },
  {
   "cell_type": "markdown",
   "metadata": {},
   "source": [
    "# 63. class type(object)\n",
    "返回一个对象的类型，返回值与object.\\_\\_class\\_\\_一样。"
   ]
  },
  {
   "cell_type": "markdown",
   "metadata": {},
   "source": [
    "# 64. vars([object])\n",
    "返回 object 中所有属性与对应值的字典。没有参数时作用和locals()一样。"
   ]
  },
  {
   "cell_type": "markdown",
   "metadata": {},
   "source": [
    "# 65. zip(*iterables)\n",
    " zip 函数接受一系列可迭代的对象作为参数，将对象中对应的元素打包成一个个tuple（元组）。"
   ]
  },
  {
   "cell_type": "markdown",
   "metadata": {},
   "source": [
    "# 66. __import__(name, globals=None, locals=None, fromlist=(), level=0)\n",
    "通过import语句调用。"
   ]
  }
 ],
 "metadata": {
  "kernelspec": {
   "display_name": "Python 3",
   "language": "python",
   "name": "python3"
  },
  "language_info": {
   "codemirror_mode": {
    "name": "ipython",
    "version": 3
   },
   "file_extension": ".py",
   "mimetype": "text/x-python",
   "name": "python",
   "nbconvert_exporter": "python",
   "pygments_lexer": "ipython3",
   "version": "3.6.1"
  }
 },
 "nbformat": 4,
 "nbformat_minor": 2
}
