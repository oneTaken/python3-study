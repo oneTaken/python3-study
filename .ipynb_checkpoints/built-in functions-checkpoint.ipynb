{
 "cells": [
  {
   "cell_type": "markdown",
   "metadata": {},
   "source": [
    "python3内置函数学习，参考资料[官方资料](https://docs.python.org/3/library/functions.html)，[教程1](http://www.cnblogs.com/xiao1/p/5856890.html)，[教程2](http://blog.csdn.net/lisonglisonglisong/article/details/38960341)。\n",
    "\n",
    "|   |   | **内置函数** |  |  |\n",
    "| :-----------           |:-----------| :-----------| :----------- | :----------- |\n",
    "| abs() | dict()| help() | min() | setattr() |\n",
    "| all() | dir() | hex() | next() | slice()|\n",
    "| any() | divmod() | id() | object() | sorted() |\n",
    "| ascii()| enumerate() | input() | oct() | staticmenthod() |\n",
    "| bin() | eval() | int() | open() | str() |\n",
    "| bool() | exec() | isinstance() | ord() | sum() | \n",
    "| bytearray() | filter() | issubclass() | pow() | super() |\n",
    "| bytes() | float() | iter() | print() | tuple() |\n",
    "| callable() | format() | len() | property() | type() |\n",
    "| chr() | frozenset() | list() | range() | vars() |\n",
    "| classmethod() | getattr() | locals() | repr() | zip() |\n",
    "| compile() | globals() | map() | reversed() | \\_\\_import\\_\\_() |\n",
    "| complex() | hasattr() | max() | round() | \n",
    "| delattr() | hash() | memoryview() | set() |\n"
   ]
  },
  {
   "cell_type": "markdown",
   "metadata": {},
   "source": [
    "# 1. abs(x)\n",
    "\n",
    "## 功能：\n",
    "   返回一个整数或浮点数的绝对值，如果是复数，返回它的模。如果是其他类型，则raise [TypeError]()."
   ]
  },
  {
   "cell_type": "code",
   "execution_count": 52,
   "metadata": {},
   "outputs": [
    {
     "name": "stdout",
     "output_type": "stream",
     "text": [
      "abs(1) is 1\n",
      "abs(1.1) is 1.1\n",
      "abs((1+1j)) is 1.4142135623730951\n"
     ]
    }
   ],
   "source": [
    "x = 1\n",
    "y = 1.1\n",
    "z = complex(1, 1)\n",
    "print('abs({}) is {}'.format(x, abs(x)))\n",
    "print('abs({}) is {}'.format(y, abs(y)))\n",
    "print('abs({}) is {}'.format(z, abs(z)))\n",
    "# print(abs(str(1)))"
   ]
  },
  {
   "cell_type": "markdown",
   "metadata": {},
   "source": [
    "# 2. all(iterable)\n",
    "## 功能：\n",
    "   当 iterable 中所有元素都为 `True` 时（或者 iterable 为空），返回 `True` 。\n",
    "   涉及知识点，1.[iterable是什么类型](),2.[什么时候返回True]()"
   ]
  },
  {
   "cell_type": "code",
   "execution_count": 53,
   "metadata": {},
   "outputs": [
    {
     "name": "stdout",
     "output_type": "stream",
     "text": [
      "all(['python', 123]) is True\n",
      "all([]) is True\n",
      "all(['0']) is True\n",
      "all([0]) is False\n"
     ]
    }
   ],
   "source": [
    "tmp_1 = ['python',123]\n",
    "print('all({}) is {}'.format(tmp_1, all(tmp_1)))\n",
    "tmp_2 = []\n",
    "print('all({}) is {}'.format(tmp_2, all(tmp_2)))\n",
    "tmp_3 = ['0']\n",
    "print('all({}) is {}'.format(tmp_3, all(tmp_3)))\n",
    "tmp_4 = [0]\n",
    "print('all({}) is {}'.format(tmp_4, all(tmp_4)))"
   ]
  },
  {
   "cell_type": "markdown",
   "metadata": {},
   "source": [
    "# 3. any(iterable)\n",
    "## 功能：\n",
    "    当 iterable 中有元素为 True 时，则返回 True 。如果 iterable 为空，返回 False 。"
   ]
  },
  {
   "cell_type": "code",
   "execution_count": 54,
   "metadata": {},
   "outputs": [
    {
     "name": "stdout",
     "output_type": "stream",
     "text": [
      "any([]) is False\n",
      "any(['']) is False\n",
      "any([0]) is False\n",
      "any(['0', 0]) is True\n"
     ]
    }
   ],
   "source": [
    "tmp_1 = []\n",
    "print('any({}) is {}'.format(tmp_1, any(tmp_1)))\n",
    "tmp_2 = ['']\n",
    "print('any({}) is {}'.format(tmp_2,any(tmp_2)))\n",
    "tmp_3 = [0]\n",
    "print('any({}) is {}'.format(tmp_3, any(tmp_3)))\n",
    "tmp_4 = ['0',0]\n",
    "print('any({}) is {}'.format(tmp_4, any(tmp_4)))"
   ]
  },
  {
   "cell_type": "markdown",
   "metadata": {},
   "source": [
    "all() 与any()差异:\n",
    "官方文档给出的描述为：\n",
    "[all()](https://docs.python.org/3/library/functions.html#all) 等价于:\n",
    "```python\n",
    "def all(iterable):\n",
    "    for element in iterable:\n",
    "        if not element:\n",
    "            return False\n",
    "    return True\n",
    "```\n",
    "[any()](https://docs.python.org/3/library/functions.html#any) 等价于：\n",
    "```python\n",
    "def any(iterable):\n",
    "    for element in iterable:\n",
    "        if element:\n",
    "            return True\n",
    "    return False\n",
    "```\n",
    "由此可以看出，当`iterable`为空时，all(iterable)返回`True`, any(iterable)返回`False`"
   ]
  },
  {
   "cell_type": "markdown",
   "metadata": {},
   "source": [
    "# 4. ascii(object)\n",
    "## 功能：\n",
    "类似于repr()，返回一个输入对象的可打印的字符串。"
   ]
  },
  {
   "cell_type": "code",
   "execution_count": 55,
   "metadata": {},
   "outputs": [
    {
     "data": {
      "text/plain": [
       "'10'"
      ]
     },
     "execution_count": 55,
     "metadata": {},
     "output_type": "execute_result"
    }
   ],
   "source": [
    "ascii(x)\n",
    "ascii(10)"
   ]
  },
  {
   "cell_type": "markdown",
   "metadata": {},
   "source": [
    "# 5. bin(x)\n",
    "## 功能：\n",
    "将整数 x 转化为一个二进制字符串。当 x 不是 python int 对象时，x 必须实现```__index__()```方法来返回一个整型数值。否则，报[TypeError]()"
   ]
  },
  {
   "cell_type": "code",
   "execution_count": 56,
   "metadata": {},
   "outputs": [
    {
     "name": "stdout",
     "output_type": "stream",
     "text": [
      "0b1\n"
     ]
    },
    {
     "ename": "TypeError",
     "evalue": "'float' object cannot be interpreted as an integer",
     "output_type": "error",
     "traceback": [
      "\u001b[1;31m---------------------------------------------------------------------------\u001b[0m",
      "\u001b[1;31mTypeError\u001b[0m                                 Traceback (most recent call last)",
      "\u001b[1;32m<ipython-input-56-af5de4c0f83a>\u001b[0m in \u001b[0;36m<module>\u001b[1;34m()\u001b[0m\n\u001b[0;32m      1\u001b[0m \u001b[0mprint\u001b[0m\u001b[1;33m(\u001b[0m\u001b[0mbin\u001b[0m\u001b[1;33m(\u001b[0m\u001b[1;36m1\u001b[0m\u001b[1;33m)\u001b[0m\u001b[1;33m)\u001b[0m\u001b[1;33m\u001b[0m\u001b[0m\n\u001b[1;32m----> 2\u001b[1;33m \u001b[0mprint\u001b[0m\u001b[1;33m(\u001b[0m\u001b[0mbin\u001b[0m\u001b[1;33m(\u001b[0m\u001b[1;36m1.0\u001b[0m\u001b[1;33m)\u001b[0m\u001b[1;33m)\u001b[0m\u001b[1;33m\u001b[0m\u001b[0m\n\u001b[0m",
      "\u001b[1;31mTypeError\u001b[0m: 'float' object cannot be interpreted as an integer"
     ]
    }
   ],
   "source": [
    "print(bin(1))\n",
    "print(bin(1.0))"
   ]
  },
  {
   "cell_type": "markdown",
   "metadata": {},
   "source": [
    "# 6. *class* bool([x])\n",
    "## 功能：\n",
    "将一个值转换成一个boolean类型的值，省略 x 将返回 False."
   ]
  },
  {
   "cell_type": "code",
   "execution_count": null,
   "metadata": {},
   "outputs": [],
   "source": [
    "print(bool())\n",
    "print(bool(0))\n",
    "print(bool(1))"
   ]
  },
  {
   "cell_type": "markdown",
   "metadata": {},
   "source": [
    "# 7. *class* bytearray([source[,encoding[,errors]]])\n",
    "\n",
    "\n",
    "## 功能：\n",
    " bytearray的构造函数。bytearray类型是一个可变的整数序列（0 <= 整数 < 256），即字节数组.\n"
   ]
  },
  {
   "cell_type": "markdown",
   "metadata": {},
   "source": [
    "# 8. class bytes([source[,encoding[,errors]]])\n",
    "\n",
    "## 功能：\n",
    "字节对象（bytes object）的构造函数。bytes是bytearray的不可变版本."
   ]
  },
  {
   "cell_type": "markdown",
   "metadata": {},
   "source": [
    "# 9. callable(object)\n",
    "## 官方释义：\n",
    "## 功能描述：\n",
    "判断一个对象是否可调用，如果一个实例的类实现了`__call()__`方法，则它是可以调用的。"
   ]
  },
  {
   "cell_type": "code",
   "execution_count": null,
   "metadata": {},
   "outputs": [],
   "source": [
    "print(callable(int))\n",
    "print(callable(list))\n",
    "print(callable(bool))\n",
    "# dir(bool)\n",
    "bool.__call__"
   ]
  },
  {
   "cell_type": "markdown",
   "metadata": {},
   "source": [
    "# 10. chr(i)\n",
    "## 功能：\n",
    "返回编码值 i 对应的字符（str类型），i 的有效值为 0 到 1114111。与ord()正好相反。"
   ]
  },
  {
   "cell_type": "code",
   "execution_count": null,
   "metadata": {},
   "outputs": [],
   "source": [
    "print(chr(15))\n",
    "print(chr(1))\n",
    "print(chr(20))\n",
    "print(chr(100))\n",
    "print(chr(1114111))\n",
    "print(chr(0))\n",
    "print(chr(114112))"
   ]
  },
  {
   "cell_type": "markdown",
   "metadata": {},
   "source": [
    "# 11. classmethod(function)\n",
    "## 功能：\n",
    "用来指定一个方法为类的方法，由类直接调用执行，只有一个cls参数,执行类的方法时，自动将调用该方法的类赋值给cls。\n",
    "没有此参数指定的类的方法为实例方法。"
   ]
  },
  {
   "cell_type": "code",
   "execution_count": null,
   "metadata": {},
   "outputs": [],
   "source": [
    "class Province:\n",
    "    country = \"中国\"\n",
    "      \n",
    "    def __init__(self, name):\n",
    "        self.name = name\n",
    "      \n",
    "    @classmethod\n",
    "    def show(cls):  # 类方法，由类调用，最少要有一个参数cls，调用的时候这个参数不用传值，自动将类名赋值给cls\n",
    "        print(cls)\n",
    "        print(cls.country)\n",
    "      \n",
    "# 调用方法\n",
    "Province.show()"
   ]
  },
  {
   "cell_type": "markdown",
   "metadata": {},
   "source": [
    "# 12. compile(source, filename, mode, flags=0, dont_inherit=False, optimize=-1)\n",
    "功能：\n",
    "编译一个源，返回一个代码对象，该代码对象可以用来作为exec()或者eval()的参数。\n",
    "\n",
    "将字符串编译成python能识别或可以执行的代码，也可以将文字读成字符串再编译。"
   ]
  },
  {
   "cell_type": "markdown",
   "metadata": {},
   "source": [
    "# 13. class complex([real[, imag]])\n",
    "function:\n",
    "复数的构造函数，re 为返回复数对象的实数部分，im 为虚数部分。"
   ]
  },
  {
   "cell_type": "code",
   "execution_count": 58,
   "metadata": {},
   "outputs": [
    {
     "data": {
      "text/plain": [
       "(1+0j)"
      ]
     },
     "execution_count": 58,
     "metadata": {},
     "output_type": "execute_result"
    }
   ],
   "source": [
    "complex(1,0)"
   ]
  },
  {
   "cell_type": "markdown",
   "metadata": {},
   "source": [
    "# 14. delattr(object, name)\n",
    "function:\n",
    "删除一个对象的属性，相当于del object.name。"
   ]
  },
  {
   "cell_type": "markdown",
   "metadata": {},
   "source": [
    "# 15. class dict(**kwarg)\n",
    "function:\n",
    "字典类型的构造函数。"
   ]
  },
  {
   "cell_type": "markdown",
   "metadata": {},
   "source": [
    "# 16. dir([object])\n",
    "function:\n",
    "返回一个包含了 object 所有属性的列表对象，如果没有参数，则包含当前作用域的所用属性。"
   ]
  },
  {
   "cell_type": "code",
   "execution_count": 62,
   "metadata": {},
   "outputs": [],
   "source": [
    "import os\n",
    "# dir()\n",
    "# dir(os.getcwd())"
   ]
  },
  {
   "cell_type": "markdown",
   "metadata": {},
   "source": [
    "# 17. divmod(a, b)\n",
    "function:\n",
    "返回一个元组(a//b, a%b)"
   ]
  },
  {
   "cell_type": "code",
   "execution_count": 63,
   "metadata": {},
   "outputs": [
    {
     "data": {
      "text/plain": [
       "(0, 3)"
      ]
     },
     "execution_count": 63,
     "metadata": {},
     "output_type": "execute_result"
    }
   ],
   "source": [
    "divmod(3,5)"
   ]
  },
  {
   "cell_type": "markdown",
   "metadata": {},
   "source": [
    "# 18. enumerate(iterable, start=0)\n",
    "function:\n",
    "返回一个可迭代的 enumerate object，对其使用 next() 得到的是包含索引和元素的tuple，通常用于同时遍历索引和元素"
   ]
  },
  {
   "cell_type": "code",
   "execution_count": 70,
   "metadata": {},
   "outputs": [
    {
     "name": "stdout",
     "output_type": "stream",
     "text": [
      "0\n",
      "0\n"
     ]
    }
   ],
   "source": [
    "for i , value in enumerate(tmp_3):\n",
    "    print(i)\n",
    "    print(value)"
   ]
  },
  {
   "cell_type": "markdown",
   "metadata": {},
   "source": [
    "# 18. eval(expression, globals=None, locals=None)\n",
    "function:\n",
    "执行一段代码，返回执行的结果。"
   ]
  },
  {
   "cell_type": "code",
   "execution_count": 72,
   "metadata": {},
   "outputs": [
    {
     "data": {
      "text/plain": [
       "True"
      ]
     },
     "execution_count": 72,
     "metadata": {},
     "output_type": "execute_result"
    }
   ],
   "source": [
    "x=1\n",
    "eval('x==1')"
   ]
  },
  {
   "cell_type": "markdown",
   "metadata": {},
   "source": [
    "# 19. exec(object[, globals[, locals]])\n",
    "function:\n",
    "执行字符串或complie方法编译过的字符串，返回值为None."
   ]
  },
  {
   "cell_type": "code",
   "execution_count": 75,
   "metadata": {},
   "outputs": [
    {
     "name": "stdout",
     "output_type": "stream",
     "text": [
      "None\n"
     ]
    }
   ],
   "source": [
    "print(exec('x+=1'))"
   ]
  },
  {
   "cell_type": "markdown",
   "metadata": {},
   "source": [
    "# 20. filter(function, iterable)\n",
    "function:\n",
    "过滤器，返回由使函数 function 返回True的 iterable 元素组成的迭代器。"
   ]
  },
  {
   "cell_type": "code",
   "execution_count": 78,
   "metadata": {},
   "outputs": [
    {
     "name": "stdout",
     "output_type": "stream",
     "text": [
      "<filter object at 0x0000000004EBF4E0>\n",
      "[2, 4, 6, 8]\n"
     ]
    }
   ],
   "source": [
    "lst = [1, 2, 3, 4, 5, 6, 7, 8]\n",
    "f = lambda x: x%2==0\n",
    "result = filter(f, lst)\n",
    "print(result)\n",
    "print(list(result))"
   ]
  },
  {
   "cell_type": "markdown",
   "metadata": {},
   "source": [
    "# 21. class float([x])\n",
    "function:\n",
    "返回一个浮点型的对象，无参时返回0.0."
   ]
  },
  {
   "cell_type": "code",
   "execution_count": 79,
   "metadata": {},
   "outputs": [
    {
     "data": {
      "text/plain": [
       "1.0"
      ]
     },
     "execution_count": 79,
     "metadata": {},
     "output_type": "execute_result"
    }
   ],
   "source": [
    "float(1)"
   ]
  },
  {
   "cell_type": "markdown",
   "metadata": {},
   "source": [
    "# 22. format(value[, format_spec])\n",
    "function:\n",
    "格式化一个值，当参数是一个自定义对象的时候，该对象需要实现__format__()方法。"
   ]
  },
  {
   "cell_type": "markdown",
   "metadata": {},
   "source": [
    "# 23.  class frozenset([iterable])\n",
    "function:\n",
    "frozenset 的构造函数。顾名思义，frozenset是一种 set 类型，且不可改变（没有add、remove等方法）。"
   ]
  },
  {
   "cell_type": "markdown",
   "metadata": {},
   "source": [
    "# 24. getattr(object, name[, default])\n",
    "function:\n",
    "获得对象的name属性，当该属性不存在的时候可以使用一个默认值作为返回值。"
   ]
  },
  {
   "cell_type": "markdown",
   "metadata": {},
   "source": [
    "# 25. globals()\n",
    "function:\n",
    "返回一个包含当前所有全局符号和对应值的字典。"
   ]
  },
  {
   "cell_type": "code",
   "execution_count": 81,
   "metadata": {},
   "outputs": [],
   "source": [
    "# globals()"
   ]
  },
  {
   "cell_type": "markdown",
   "metadata": {},
   "source": [
    "# 26. hasattr(object, name)\n",
    "function:\n",
    "判断对象是否有name属性。"
   ]
  },
  {
   "cell_type": "markdown",
   "metadata": {},
   "source": [
    "# 27. hash(object)\n",
    "function:\n",
    "返回对象的 hash 值，object 必须是可哈希的。注意：所有不可变的内置类型都是 hashable 的，比如 string，tuple；所有可变的内置类型都是 unhashable 的，比如 list，dict（即没有__hash__()方法）。"
   ]
  },
  {
   "cell_type": "markdown",
   "metadata": {},
   "source": [
    "# 28. help([object])\n",
    "function:\n",
    "查看一个对象的帮助文档。"
   ]
  },
  {
   "cell_type": "markdown",
   "metadata": {},
   "source": [
    "# 29. hex(x)\n",
    "function:\n",
    "将一个整数转为小写的十六进制字符串（以’0x’开头），如果不是int对象，需要定义 `__index__()`方法。"
   ]
  },
  {
   "cell_type": "markdown",
   "metadata": {},
   "source": [
    "# 30.  id(object)\n",
    "function:\n",
    "返回一个对象的 id 身份，可以看作该对象的内存地址。"
   ]
  },
  {
   "cell_type": "markdown",
   "metadata": {},
   "source": [
    "# 31. "
   ]
  }
 ],
 "metadata": {
  "kernelspec": {
   "display_name": "Python 3",
   "language": "python",
   "name": "python3"
  },
  "language_info": {
   "codemirror_mode": {
    "name": "ipython",
    "version": 3
   },
   "file_extension": ".py",
   "mimetype": "text/x-python",
   "name": "python",
   "nbconvert_exporter": "python",
   "pygments_lexer": "ipython3",
   "version": "3.6.1"
  }
 },
 "nbformat": 4,
 "nbformat_minor": 2
}
