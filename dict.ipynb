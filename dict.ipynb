{
 "cells": [
  {
   "cell_type": "markdown",
   "metadata": {},
   "source": [
    "参考[官方资料](https://docs.python.org/3/library/stdtypes.html#mapping-types-dict),及[其中文翻译](http://blog.csdn.net/tomato__/article/details/45077627)."
   ]
  },
  {
   "cell_type": "markdown",
   "metadata": {},
   "source": [
    "map是python中的映射类型，是可变对象，用于将一个值映射到另一个值。map中的值没有特殊的顺序，都是与一个key对应.\n",
    "\n",
    "key可以是数字、字符串或者元组（即不可变类型）。\n",
    "需要注意当key为数字时，使用一下的原则：如果两个数字的值相等（例如1和1.0），则他们用于key时对应同样的条目（但是需要注意，由于计算机存储浮点型为一个近似值，所以使用浮点型作为key不是一个明智的选择）。"
   ]
  },
  {
   "cell_type": "markdown",
   "metadata": {},
   "source": [
    "# 构造字典:\n",
    "key和值之间通过冒号分隔，项之间用逗号分隔。也可以使用 dict构造器："
   ]
  },
  {
   "cell_type": "markdown",
   "metadata": {},
   "source": [
    "`class dict(**kwarg) `  \n",
    "`class dict(mapping, **kwarg)`\n",
    "\n",
    "`class dict(iterable, **kwarg)`"
   ]
  },
  {
   "cell_type": "markdown",
   "metadata": {},
   "source": [
    "字典的创建规则如下：\n",
    "1）如果参数为空，则一个空字典被创建；\n",
    "2）如果传入一个字典对象，一个具有同样的key-value对的字典被创建；\n",
    "3）如果传入的是iterable对象，则要求该对象的每个元素都应该是一个具有两个值的iterable对象，每个对象的第一个值将作为key，第二个值则作为value；如果一个key出现多次，则最后出现的key对应的值将成为该key的值；\n",
    "4）如果kwarg值被给，则kwarg将被添加到前3步创建的字典中；如果kwarg中的key在字典中已经存在，该key的值将替换字典中同样key的值。"
   ]
  },
  {
   "cell_type": "code",
   "execution_count": 27,
   "metadata": {},
   "outputs": [
    {
     "name": "stdout",
     "output_type": "stream",
     "text": [
      "{}\n",
      "{'a': 1, 'b': 2}\n",
      "{'a': 1, 'b': 2}\n",
      "{1: 123, 2: 234, 3: 345}\n",
      "{'zero': 'w', 'two': 2, '3': 't', 'one': 1, 'three': 3}\n"
     ]
    }
   ],
   "source": [
    "dict1 = {}\n",
    "dict2 = {'a':1,'b':2}\n",
    "dict3 = dict2\n",
    "dict4 =  dict([(1,123),(2,234),(3,345)]) \n",
    "dict5  = dict([('zero','w'),('two','four'),('3','t')], one=1, two=2, three=3) \n",
    "print(dict1)\n",
    "print(dict2)\n",
    "print(dict3)\n",
    "print(dict4)\n",
    "print(dict5)"
   ]
  },
  {
   "cell_type": "markdown",
   "metadata": {},
   "source": [
    "# 字典的基本操作"
   ]
  },
  {
   "cell_type": "markdown",
   "metadata": {},
   "source": [
    "#  len(dict)\n",
    "返回dict中的元素个数"
   ]
  },
  {
   "cell_type": "code",
   "execution_count": 28,
   "metadata": {},
   "outputs": [
    {
     "data": {
      "text/plain": [
       "0"
      ]
     },
     "execution_count": 28,
     "metadata": {},
     "output_type": "execute_result"
    }
   ],
   "source": [
    "dict1 = {}\n",
    "len(dict1)"
   ]
  },
  {
   "cell_type": "markdown",
   "metadata": {},
   "source": [
    "# d[key]\n",
    "返回key对应的value，如果key不在map中，则抛出[KeyError]()常。\n",
    "可以在字典的子类中定义\\_\\_missing\\_\\_()方法，如果key不存在，则d[key]操作将调用该方法，将key作为参数，"
   ]
  },
  {
   "cell_type": "code",
   "execution_count": 29,
   "metadata": {},
   "outputs": [
    {
     "name": "stdout",
     "output_type": "stream",
     "text": [
      "0\n",
      "1\n",
      "0\n"
     ]
    }
   ],
   "source": [
    "class Counter(dict):\n",
    "\tdef __missing__(self, key):\n",
    "\t\treturn 0\n",
    "c = Counter()\n",
    "print(c['red'])\n",
    "c['red'] += 1\n",
    "print(c['red'])\n",
    "print(c['green'])"
   ]
  },
  {
   "cell_type": "markdown",
   "metadata": {},
   "source": [
    "# d[key] = value\n",
    "直接设置key的值到value。"
   ]
  },
  {
   "cell_type": "code",
   "execution_count": 30,
   "metadata": {},
   "outputs": [
    {
     "data": {
      "text/plain": [
       "{1: 1}"
      ]
     },
     "execution_count": 30,
     "metadata": {},
     "output_type": "execute_result"
    }
   ],
   "source": [
    "dict1 = dict()\n",
    "dict1[1] = 1\n",
    "dict1"
   ]
  },
  {
   "cell_type": "markdown",
   "metadata": {},
   "source": [
    "# del d[key]\n",
    "移除d[key]，如果key不在字典中，则抛出[KeyError]()。"
   ]
  },
  {
   "cell_type": "code",
   "execution_count": 31,
   "metadata": {},
   "outputs": [
    {
     "ename": "KeyError",
     "evalue": "1",
     "traceback": [
      "\u001b[1;31m---------------------------------------------------------------------------\u001b[0m",
      "\u001b[1;31mKeyError\u001b[0m                                  Traceback (most recent call last)",
      "\u001b[1;32m<ipython-input-31-d916a3d8a415>\u001b[0m in \u001b[0;36m<module>\u001b[1;34m()\u001b[0m\n\u001b[0;32m      1\u001b[0m \u001b[0mdict1\u001b[0m \u001b[1;33m=\u001b[0m \u001b[0mdict\u001b[0m\u001b[1;33m(\u001b[0m\u001b[1;33m)\u001b[0m\u001b[1;33m\u001b[0m\u001b[0m\n\u001b[1;32m----> 2\u001b[1;33m \u001b[1;32mdel\u001b[0m \u001b[0mdict1\u001b[0m\u001b[1;33m[\u001b[0m\u001b[1;36m1\u001b[0m\u001b[1;33m]\u001b[0m\u001b[1;33m\u001b[0m\u001b[0m\n\u001b[0m",
      "\u001b[1;31mKeyError\u001b[0m: 1"
     ],
     "output_type": "error"
    }
   ],
   "source": [
    "dict1 = dict()\n",
    "del dict1[1]"
   ]
  },
  {
   "cell_type": "markdown",
   "metadata": {},
   "source": [
    "参考[dict|菜鸟教程](http://www.runoob.com/python3/python3-dictionary.html)， dict method有："
   ]
  },
  {
   "cell_type": "markdown",
   "metadata": {},
   "source": [
    "# 1. radiansdict.clear()\n",
    "删除字典内所有元素。"
   ]
  },
  {
   "cell_type": "code",
   "execution_count": 32,
   "metadata": {},
   "outputs": [
    {
     "data": {
      "text/plain": [
       "{}"
      ]
     },
     "execution_count": 32,
     "metadata": {},
     "output_type": "execute_result"
    }
   ],
   "source": [
    "dict1 = {1:1}\n",
    "dict1.clear()\n",
    "dict1"
   ]
  },
  {
   "cell_type": "markdown",
   "metadata": {},
   "source": [
    "# 2. radiansdict.copy()\n",
    "返回一个字典的浅复制."
   ]
  },
  {
   "cell_type": "code",
   "execution_count": 33,
   "metadata": {},
   "outputs": [
    {
     "name": "stdout",
     "output_type": "stream",
     "text": [
      "{1: 1, 2: 2}\n",
      "{1: 1, 2: 2}\n",
      "{1: 1, 2: 3}\n"
     ]
    }
   ],
   "source": [
    "dict1 = {1:1,2:2}\n",
    "dict2 = dict1.copy()\n",
    "print(dict2)\n",
    "dict2[2] = 3\n",
    "print(dict1)\n",
    "print(dict2)"
   ]
  },
  {
   "cell_type": "markdown",
   "metadata": {},
   "source": [
    "# 3. radiansdict.fromkeys(seq[, value]))\n",
    "创建一个新字典，以序列seq中元素做字典的键，val为字典所有键对应的初始值."
   ]
  },
  {
   "cell_type": "code",
   "execution_count": 34,
   "metadata": {},
   "outputs": [
    {
     "name": "stdout",
     "output_type": "stream",
     "text": [
      "{1: None, 2: None, 3: None}\n",
      "{1: 1, 2: 1, 3: 1}\n"
     ]
    }
   ],
   "source": [
    "seq = [1,2,3]\n",
    "dict1 = dict.fromkeys(seq)\n",
    "dict2 = dict.fromkeys(seq,1)\n",
    "print(dict1)\n",
    "print(dict2)"
   ]
  },
  {
   "cell_type": "markdown",
   "metadata": {},
   "source": [
    "# 4. radiansdict.get(key, default=None)\n",
    "返回指定键的值，如果值不在字典中返回default值。"
   ]
  },
  {
   "cell_type": "code",
   "execution_count": 35,
   "metadata": {},
   "outputs": [
    {
     "name": "stdout",
     "output_type": "stream",
     "text": [
      "1\n",
      "0\n"
     ]
    }
   ],
   "source": [
    "dict1 = {1:1}\n",
    "print(dict1.get(1,'0'))\n",
    "print(dict1.get(2,'0'))"
   ]
  },
  {
   "cell_type": "markdown",
   "metadata": {},
   "source": [
    "# 5. radiansdict.items()\n",
    "以列表返回可遍历的(键, 值) 元组数组"
   ]
  },
  {
   "cell_type": "code",
   "execution_count": 36,
   "metadata": {},
   "outputs": [
    {
     "name": "stdout",
     "output_type": "stream",
     "text": [
      "dict_items([(1, 1), (2, 2)])\n"
     ]
    }
   ],
   "source": [
    "dict1 = {1:1, 2:2}\n",
    "print(dict1.items())"
   ]
  },
  {
   "cell_type": "markdown",
   "metadata": {},
   "source": [
    "# 6. radiansdict.keys()\n",
    "以列表返回一个字典所有的键."
   ]
  },
  {
   "cell_type": "code",
   "execution_count": 37,
   "metadata": {},
   "outputs": [
    {
     "data": {
      "text/plain": [
       "dict_keys([1, 2])"
      ]
     },
     "execution_count": 37,
     "metadata": {},
     "output_type": "execute_result"
    }
   ],
   "source": [
    "dict1 = {1:1,2:2}\n",
    "dict1.keys()"
   ]
  },
  {
   "cell_type": "markdown",
   "metadata": {},
   "source": [
    "# 7. \tradiansdict.setdefault(key, default=None)\n",
    "和get()类似, 但如果键不存在于字典中，将会添加键并将值设为default."
   ]
  },
  {
   "cell_type": "code",
   "execution_count": 38,
   "metadata": {},
   "outputs": [
    {
     "data": {
      "text/plain": [
       "{1: 1, 2: 2}"
      ]
     },
     "execution_count": 38,
     "metadata": {},
     "output_type": "execute_result"
    }
   ],
   "source": [
    "dict1 = {1:1,2:2}\n",
    "dict1.setdefault(1,2)\n",
    "dict1"
   ]
  },
  {
   "cell_type": "markdown",
   "metadata": {},
   "source": [
    "# 8. radiansdict.update(dict2)\n",
    "把字典dict2的键/值对更新到dict里."
   ]
  },
  {
   "cell_type": "code",
   "execution_count": 39,
   "metadata": {},
   "outputs": [
    {
     "data": {
      "text/plain": [
       "{1: 3, 2: 2}"
      ]
     },
     "execution_count": 39,
     "metadata": {},
     "output_type": "execute_result"
    }
   ],
   "source": [
    "dict1 = {1:1}\n",
    "dict2 = {2:2,1:3}\n",
    "dict1.update(dict2)\n",
    "dict1"
   ]
  },
  {
   "cell_type": "markdown",
   "metadata": {},
   "source": [
    "# 9. radiansdict.values()\n",
    "以列表返回字典中的所有值."
   ]
  },
  {
   "cell_type": "code",
   "execution_count": 40,
   "metadata": {},
   "outputs": [
    {
     "data": {
      "text/plain": [
       "dict_values([3, 4])"
      ]
     },
     "execution_count": 40,
     "metadata": {},
     "output_type": "execute_result"
    }
   ],
   "source": [
    "dict1 = {1:3,2:4}\n",
    "dict1.values()"
   ]
  },
  {
   "cell_type": "markdown",
   "metadata": {},
   "source": [
    "# 10. radiansdict.pop(key[,default])\n",
    "删除字典给定键 key 所对应的值，返回值为被删除的值。key值必须给出。 否则，返回default值。"
   ]
  },
  {
   "cell_type": "code",
   "execution_count": 41,
   "metadata": {},
   "outputs": [
    {
     "name": "stdout",
     "output_type": "stream",
     "text": [
      "1\n",
      "3\n"
     ]
    }
   ],
   "source": [
    "dict1 = {1:1,2:2}\n",
    "print(dict1.pop(1,2))\n",
    "print(dict1.pop(3,3))"
   ]
  },
  {
   "cell_type": "markdown",
   "metadata": {},
   "source": [
    "# 11. radiansdict.popitem()\n",
    "随机返回并删除字典中的最后一对键和值。如果dict为空，报[KeyError](()"
   ]
  },
  {
   "cell_type": "code",
   "execution_count": 42,
   "metadata": {},
   "outputs": [
    {
     "name": "stdout",
     "output_type": "stream",
     "text": [
      "(5, 15)\n",
      "(4, 14)\n",
      "(3, 13)\n",
      "(2, 12)\n",
      "(1, 11)\n"
     ]
    },
    {
     "ename": "KeyError",
     "evalue": "'popitem(): dictionary is empty'",
     "traceback": [
      "\u001b[1;31m---------------------------------------------------------------------------\u001b[0m",
      "\u001b[1;31mKeyError\u001b[0m                                  Traceback (most recent call last)",
      "\u001b[1;32m<ipython-input-42-bb80345b2623>\u001b[0m in \u001b[0;36m<module>\u001b[1;34m()\u001b[0m\n\u001b[0;32m      5\u001b[0m \u001b[0mprint\u001b[0m\u001b[1;33m(\u001b[0m\u001b[0mdict1\u001b[0m\u001b[1;33m.\u001b[0m\u001b[0mpopitem\u001b[0m\u001b[1;33m(\u001b[0m\u001b[1;33m)\u001b[0m\u001b[1;33m)\u001b[0m\u001b[1;33m\u001b[0m\u001b[0m\n\u001b[0;32m      6\u001b[0m \u001b[0mprint\u001b[0m\u001b[1;33m(\u001b[0m\u001b[0mdict1\u001b[0m\u001b[1;33m.\u001b[0m\u001b[0mpopitem\u001b[0m\u001b[1;33m(\u001b[0m\u001b[1;33m)\u001b[0m\u001b[1;33m)\u001b[0m\u001b[1;33m\u001b[0m\u001b[0m\n\u001b[1;32m----> 7\u001b[1;33m \u001b[0mprint\u001b[0m\u001b[1;33m(\u001b[0m\u001b[0mdict1\u001b[0m\u001b[1;33m.\u001b[0m\u001b[0mpopitem\u001b[0m\u001b[1;33m(\u001b[0m\u001b[1;33m)\u001b[0m\u001b[1;33m)\u001b[0m\u001b[1;33m\u001b[0m\u001b[0m\n\u001b[0m",
      "\u001b[1;31mKeyError\u001b[0m: 'popitem(): dictionary is empty'"
     ],
     "output_type": "error"
    }
   ],
   "source": [
    "dict1 = {1:11,2:12,3:13,4:14,5:15}\n",
    "print(dict1.popitem())\n",
    "print(dict1.popitem())\n",
    "print(dict1.popitem())\n",
    "print(dict1.popitem())\n",
    "print(dict1.popitem())\n",
    "print(dict1.popitem())"
   ]
  }
 ],
 "metadata": {
  "kernelspec": {
   "display_name": "Python 3",
   "language": "python",
   "name": "python3"
  },
  "language_info": {
   "codemirror_mode": {
    "name": "ipython",
    "version": 3.0
   },
   "file_extension": ".py",
   "mimetype": "text/x-python",
   "name": "python",
   "nbconvert_exporter": "python",
   "pygments_lexer": "ipython3",
   "version": "3.6.1"
  }
 },
 "nbformat": 4,
 "nbformat_minor": 0
}