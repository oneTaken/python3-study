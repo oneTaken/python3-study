{
 "cells": [
  {
   "cell_type": "markdown",
   "metadata": {},
   "source": [
    "参考[python的复制，深拷贝和浅拷贝的区别](http://www.cnblogs.com/xueli/p/4952063.html),[图解 Python 深拷贝和浅拷贝](http://python.jobbole.com/82294/)"
   ]
  },
  {
   "cell_type": "markdown",
   "metadata": {},
   "source": [
    "在python中，对象赋值实际上是对象的引用。当创建一个对象，然后把它赋给另一个变量的时候，python并没有拷贝这个对象，而只是拷贝了这个对象的引用。\n",
    "一般有三种方法。"
   ]
  },
  {
   "cell_type": "markdown",
   "metadata": {},
   "source": [
    "### （1）直接赋值,传递对象的引用而已。如果原始对象是不可变对象，则原始对象改变，被赋值的对象不改变；否则，被赋值对象改变。"
   ]
  },
  {
   "cell_type": "markdown",
   "metadata": {},
   "source": [
    "python内部数据结构中不可变对象有\n",
    "+ int/float/complex等数值型\n",
    "+ str/tuple\n",
    "\n",
    "可变对象有：\n",
    "+ list\n",
    "+ set\n",
    "+ dict"
   ]
  },
  {
   "cell_type": "markdown",
   "metadata": {},
   "source": [
    "不可变对象赋值例子如下："
   ]
  },
  {
   "cell_type": "code",
   "execution_count": 10,
   "metadata": {
    "scrolled": true
   },
   "outputs": [
    {
     "name": "stdout",
     "output_type": "stream",
     "text": [
      "1. int example\n",
      "1739319824 1739319824 1739319824\n",
      "1739319856 1739319888 1739319824\n",
      "\n",
      "2. float example\n",
      "79693480 79693480\n",
      "79693672 79693480\n",
      "\n",
      "3. complex example\n",
      "81544912 81544912\n",
      "81545456 81544912\n",
      "\n",
      "4. str example\n",
      "81741616 81741616\n",
      "81742736 81741616\n",
      "\n",
      "5. tuple example\n",
      "79866440 79866440\n",
      "79631176 79866440\n"
     ]
    }
   ],
   "source": [
    "print('1. int example')\n",
    "a = b = c = 3\n",
    "print(id(a),id(b),id(c)) \n",
    "a = 4\n",
    "b = 5\n",
    "print(id(a),id(b),id(c))\n",
    "\n",
    "print('\\n2. float example')\n",
    "d = e = 1.1\n",
    "print(id(d),id(e))\n",
    "d = 2.2\n",
    "print(id(d),id(e))\n",
    "\n",
    "print('\\n3. complex example')\n",
    "f = g = complex(1,2)\n",
    "print(id(f),id(g))\n",
    "f = complex(2,3)\n",
    "print(id(f),id(g))\n",
    "\n",
    "\n",
    "print('\\n4. str example')\n",
    "s1 = s2 = '123'\n",
    "print(id(s1),id(s2))\n",
    "s1 = '1234'\n",
    "print(id(s1),id(s2))\n",
    "\n",
    "print('\\n5. tuple example')\n",
    "t1 = t2 = (1,2)\n",
    "print(id(t1),id(t2))\n",
    "t1 = (3,4)\n",
    "print(id(t1),id(t2))"
   ]
  },
  {
   "cell_type": "markdown",
   "metadata": {},
   "source": [
    "可变对象赋值示例如下"
   ]
  },
  {
   "cell_type": "code",
   "execution_count": 12,
   "metadata": {},
   "outputs": [
    {
     "name": "stdout",
     "output_type": "stream",
     "text": [
      "\n",
      "1. list example\n",
      "82302344 82302344\n",
      "82302344 82302344\n",
      "[1, 2, 3, 4, '5'] [1, 2, 3, 4, '5']\n",
      "\n",
      "dict example:\n",
      "82278152 82278152\n",
      "82278152 82278152\n",
      "{3: 1} {3: 1}\n"
     ]
    }
   ],
   "source": [
    "print('\\n1. list example')\n",
    "l1 = l2 = [1,2,3,4]\n",
    "print(id(l1),id(l2))\n",
    "l1.append('5')\n",
    "print(id(l1),id(l2))\n",
    "print(l1,l2)\n",
    "\n",
    "print('\\ndict example:')\n",
    "d1 = d2 = dict()\n",
    "print(id(d1),id(d2))\n",
    "d1[3] = 1\n",
    "print(id(d1),id(d2))\n",
    "print(d1,d2)"
   ]
  },
  {
   "cell_type": "markdown",
   "metadata": {},
   "source": [
    "### （2）浅拷贝\n",
    "浅拷贝会创建一个新的对象，对于对象中的元素，浅拷贝就只会使用原始对象中对应元素的引用（内存地址）。\n",
    "\n",
    "原始对象中对应元素的更改对浅拷贝对象对应元素的影响等同于赋值。"
   ]
  },
  {
   "cell_type": "markdown",
   "metadata": {},
   "source": [
    "总结一下，当我们使用下面的操作的时候，会产生浅拷贝的效果：\n",
    "\n",
    "+ 使用切片[:]操作\n",
    "+ 使用工厂函数（如list/dir/set）\n",
    "+ 使用copy模块中的copy()函数"
   ]
  },
  {
   "cell_type": "code",
   "execution_count": 17,
   "metadata": {},
   "outputs": [
    {
     "name": "stdout",
     "output_type": "stream",
     "text": [
      "\n",
      "1. int example:\n",
      "1739319760 1739319760\n",
      "1739319792 1739319760\n",
      "2 1\n",
      "\n",
      "2. list example:\n",
      "79930376 80117384\n",
      "79930376 80117384\n",
      "[1, 2] [1, 2, 3]\n",
      "\n",
      "3. list example2:\n",
      "81814216 81814920\n",
      "81814216 81814920\n",
      "[[1, 2, -1], [1, 2, 3], [1, 2, 3, 4], -1] [[1, 2, -1], [1, 2, 3], [1, 2, 3, 4]]\n"
     ]
    }
   ],
   "source": [
    "import copy\n",
    "print('\\n1. int example:')\n",
    "a = 1\n",
    "b = copy.copy(a)\n",
    "print(id(a),id(b))\n",
    "a = 2\n",
    "print(id(a),id(b))\n",
    "print(a,b)\n",
    "\n",
    "print('\\n2. list example:')\n",
    "l1 = [1,2,3]\n",
    "l2 = copy.copy(l1)\n",
    "print(id(l1),id(l2))\n",
    "l1.pop()\n",
    "print(id(l1),id(l2))\n",
    "print(l1,l2)\n",
    "\n",
    "print('\\n3. list example2:')\n",
    "l3 = [[1,2],[1,2,3],[1,2,3,4]]\n",
    "l4 = copy.copy(l3)\n",
    "print(id(l3),id(l4))\n",
    "l3[0].append(-1)\n",
    "l3.append(-1)\n",
    "print(id(l3),id(l4))\n",
    "print(l3,l4)"
   ]
  },
  {
   "cell_type": "markdown",
   "metadata": {},
   "source": [
    "### （3）深拷贝，\n",
    "深拷贝也会创建一个新的对象，重新生成原始对象里面的所有元素，所以原始对象的改变不会造成深拷贝里任何子元素的改变。"
   ]
  },
  {
   "cell_type": "code",
   "execution_count": 19,
   "metadata": {},
   "outputs": [
    {
     "name": "stdout",
     "output_type": "stream",
     "text": [
      "79193672 82301832\n",
      "[[1, 2], [1, 2, 3]]\n",
      "[[1, 2], [1, 2, 3]]\n",
      "79193672 82301832\n",
      "[[1, 2, -1], [1, 2, 3], -1]\n",
      "[[1, 2], [1, 2, 3]]\n"
     ]
    }
   ],
   "source": [
    "l1 = [[1,2],[1,2,3]]\n",
    "l2 = copy.deepcopy(l1)\n",
    "print(id(l1),id(l2))\n",
    "print(l1,l2,sep='\\n')\n",
    "l1.append(-1)\n",
    "l1[0].append(-1)\n",
    "print(id(l1),id(l2))\n",
    "print(l1,l2,sep='\\n')"
   ]
  },
  {
   "cell_type": "markdown",
   "metadata": {},
   "source": [
    "其实，对于拷贝有一些特殊情况：\n",
    "\n",
    "+ 对于非容器类型（如数字、字符串、和其他’原子’类型的对象）没有拷贝这一说\n",
    "也就是说，对于这些类型，”obj is copy.copy(obj)” 、”obj is copy.deepcopy(obj)”\n",
    "\n",
    "+ 如果元祖变量只包含原子类型对象，则不能深拷贝，看下面的例子"
   ]
  },
  {
   "cell_type": "code",
   "execution_count": null,
   "metadata": {
    "collapsed": true
   },
   "outputs": [],
   "source": []
  }
 ],
 "metadata": {
  "kernelspec": {
   "display_name": "Python 3",
   "language": "python",
   "name": "python3"
  },
  "language_info": {
   "codemirror_mode": {
    "name": "ipython",
    "version": 3
   },
   "file_extension": ".py",
   "mimetype": "text/x-python",
   "name": "python",
   "nbconvert_exporter": "python",
   "pygments_lexer": "ipython3",
   "version": "3.6.1"
  }
 },
 "nbformat": 4,
 "nbformat_minor": 2
}
