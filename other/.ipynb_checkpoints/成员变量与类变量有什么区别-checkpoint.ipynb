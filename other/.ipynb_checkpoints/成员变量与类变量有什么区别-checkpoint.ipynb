{
 "cells": [
  {
   "cell_type": "markdown",
   "metadata": {},
   "source": [
    "参考[Python中的类变量和成员变量](http://blog.csdn.net/gzhouc/article/details/46785797)"
   ]
  },
  {
   "cell_type": "markdown",
   "metadata": {},
   "source": [
    "+ 类变量： 可以由类名调用，也可由类对象调用\n",
    "+ 成员变量： 由类对象调用"
   ]
  },
  {
   "cell_type": "markdown",
   "metadata": {},
   "source": [
    "类变量是类所有实例化对象共有的，而成员变量是每个实例化对象自身特有的。\n",
    "\n",
    "python的类变量并不是由类的所有对象共享。\n",
    "\n",
    "类本身拥有自己的类变量（保存在内存），当一个TestClass类的对象被构造时，会将当前类变量拷贝一份给这个对象，当前类变量的值是多少，这个对象拷贝得到的类变量的值就是多少；而且，通过对象来修改类变量，并不会影响其他对象的类变量的值，因为大家都有各自的副本，更不会影响类本身所拥有的那个类变量的值；只有类自己才能改变类本身拥有的类变量的值"
   ]
  },
  {
   "cell_type": "code",
   "execution_count": 4,
   "metadata": {},
   "outputs": [
    {
     "name": "stdout",
     "output_type": "stream",
     "text": [
      "100\n",
      "100\n",
      "200\n"
     ]
    },
    {
     "ename": "AttributeError",
     "evalue": "'TestClass' object has no attribute 'val4'",
     "output_type": "error",
     "traceback": [
      "\u001b[1;31m---------------------------------------------------------------------------\u001b[0m",
      "\u001b[1;31mAttributeError\u001b[0m                            Traceback (most recent call last)",
      "\u001b[1;32m<ipython-input-4-ee74393c5346>\u001b[0m in \u001b[0;36m<module>\u001b[1;34m()\u001b[0m\n\u001b[0;32m     17\u001b[0m     \u001b[0mprint\u001b[0m\u001b[1;33m(\u001b[0m\u001b[0minst\u001b[0m\u001b[1;33m.\u001b[0m\u001b[0mval2\u001b[0m\u001b[1;33m)\u001b[0m\u001b[1;33m\u001b[0m\u001b[0m\n\u001b[0;32m     18\u001b[0m     \u001b[1;31m# print(inst.val3)\u001b[0m\u001b[1;33m\u001b[0m\u001b[1;33m\u001b[0m\u001b[0m\n\u001b[1;32m---> 19\u001b[1;33m     \u001b[0mprint\u001b[0m\u001b[1;33m(\u001b[0m\u001b[0minst\u001b[0m\u001b[1;33m.\u001b[0m\u001b[0mval4\u001b[0m\u001b[1;33m)\u001b[0m\u001b[1;33m\u001b[0m\u001b[0m\n\u001b[0m\u001b[0;32m     20\u001b[0m     \u001b[0mprint\u001b[0m\u001b[1;33m(\u001b[0m\u001b[0minst\u001b[0m\u001b[1;33m.\u001b[0m\u001b[0mval5\u001b[0m\u001b[1;33m)\u001b[0m\u001b[1;33m\u001b[0m\u001b[0m\n",
      "\u001b[1;31mAttributeError\u001b[0m: 'TestClass' object has no attribute 'val4'"
     ]
    }
   ],
   "source": [
    "class TestClass(object):\n",
    "    val1 = 100\n",
    "   \n",
    "    def __init__(self):\n",
    "        self.val2 = 200\n",
    "   \n",
    "    def fcn(self,val = 400):\n",
    "        val3 = 300\n",
    "        self.val4 = val\n",
    "        self.val5 = 500\n",
    "\n",
    "if __name__ == '__main__':\n",
    "    inst = TestClass()\n",
    "    \n",
    "    print(TestClass.val1)\n",
    "    print(inst.val1)\n",
    "    print(inst.val2)\n",
    "    # print(inst.val3)\n",
    "    print(inst.val4)\n",
    "    print(inst.val5)"
   ]
  },
  {
   "cell_type": "markdown",
   "metadata": {},
   "source": [
    " `val 4`与`val5`虽然以`self`的形式给出，但并不是成员变量，无法由类对象来调用。"
   ]
  },
  {
   "cell_type": "code",
   "execution_count": 5,
   "metadata": {},
   "outputs": [
    {
     "name": "stdout",
     "output_type": "stream",
     "text": [
      "100\n",
      "100\n",
      "1000\n",
      "100\n",
      "1000\n",
      "2000\n",
      "2000\n",
      "2000\n"
     ]
    }
   ],
   "source": [
    "inst1 = TestClass()\n",
    "inst2 = TestClass()\n",
    " \n",
    "print(TestClass.val1) # 100\n",
    "print(inst1.val1)   # 100\n",
    " \n",
    "inst1.val1 = 1000 \n",
    "print(inst1.val1)   # 1000\n",
    "print(TestClass.val1) # 100\n",
    " \n",
    "TestClass.val1 =2000\n",
    "print(inst1.val1)   # 1000\n",
    "print(TestClass.val1) # 2000\n",
    " \n",
    "print(inst2.val1)   # 2000  \n",
    " \n",
    "inst3 = TestClass()\n",
    "print(inst3.val1)   # 2000"
   ]
  },
  {
   "cell_type": "markdown",
   "metadata": {},
   "source": [
    "+ inst1，inst2,TestClass最初都是公用类变量的引用；\n",
    "+ inst1赋值后，由于类变量为不可变类型，创建了新的引用，inst2与TestClass仍然公用类变量的引用；\n",
    "+ TestClass对值进行修改，不产生新的引用，此时，inst2与TestClass仍然公用类变量的引用\n",
    "+ inst3创建时，类变量与TestClass的引用一致 "
   ]
  },
  {
   "cell_type": "markdown",
   "metadata": {},
   "source": [
    "就是对于python来说，类变量的确是所有类共有的东西。\n",
    "\n",
    "但是那是在我们用的同一个引用的情况下，比如对于[]对象的append方法就是公用一个类变量了；\n",
    "\n",
    "但是对于赋值语句来说，如果在类中对类变量使用了赋值语句，那么python就会生成一个该对象的副本，以后的操作都是基于这个副本而不会对原来的类对象造成影响。"
   ]
  },
  {
   "cell_type": "code",
   "execution_count": 11,
   "metadata": {},
   "outputs": [
    {
     "name": "stdout",
     "output_type": "stream",
     "text": [
      "Init val id\n",
      "1739320048\t1739320048\t1739320048\n",
      "86671688\t86671688\t86671688\n",
      "change 1 val id\n",
      "1739320080\t1739320048\t1739320048\n",
      "86671688\t86671688\t86671688\n",
      "change 2 val id\n",
      "1739320080\t1739320080\t1739320048\n",
      "86671688\t86671688\t86671688\n",
      "change 3 val id\n",
      "1739320080\t1739320080\t1739320048\t1739320048\n",
      "86671688\t86671688\t86671688\t86671688\n"
     ]
    }
   ],
   "source": [
    "class testClass():\n",
    "    val1 = 10 # mutable\n",
    "    val2 = [] # immutable\n",
    "    def __init__(self):\n",
    "        pass\n",
    "    def _add(self):\n",
    "        self.val1 += 1\n",
    "        self.val2.append(1)\n",
    "\n",
    "inst1 = testClass()\n",
    "inst2 = testClass()\n",
    "print('Init val id')\n",
    "print(id(inst1.val1),id(inst2.val1),id(testClass.val1),sep='\\t')\n",
    "print(id(inst1.val2),id(inst2.val2),id(testClass.val2),sep='\\t')\n",
    "\n",
    "inst1._add()\n",
    "print('change 1 val id')\n",
    "print(id(inst1.val1),id(inst2.val1),id(testClass.val1),sep='\\t')\n",
    "print(id(inst1.val2),id(inst2.val2),id(testClass.val2),sep='\\t')\n",
    "\n",
    "inst2._add()\n",
    "print('change 2 val id')\n",
    "print(id(inst1.val1),id(inst2.val1),id(testClass.val1),sep='\\t')\n",
    "print(id(inst1.val2),id(inst2.val2),id(testClass.val2),sep='\\t')\n",
    "\n",
    "inst3 = testClass()\n",
    "print('change 3 val id')\n",
    "print(id(inst1.val1),id(inst2.val1),id(testClass.val1),id(inst3.val1),sep='\\t')\n",
    "print(id(inst1.val2),id(inst2.val2),id(testClass.val2),id(inst3.val2),sep='\\t')\n"
   ]
  },
  {
   "cell_type": "code",
   "execution_count": null,
   "metadata": {
    "collapsed": true
   },
   "outputs": [],
   "source": []
  }
 ],
 "metadata": {
  "kernelspec": {
   "display_name": "Python 3",
   "language": "python",
   "name": "python3"
  },
  "language_info": {
   "codemirror_mode": {
    "name": "ipython",
    "version": 3
   },
   "file_extension": ".py",
   "mimetype": "text/x-python",
   "name": "python",
   "nbconvert_exporter": "python",
   "pygments_lexer": "ipython3",
   "version": "3.6.1"
  }
 },
 "nbformat": 4,
 "nbformat_minor": 2
}
