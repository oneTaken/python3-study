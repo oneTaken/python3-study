{
 "cells": [
  {
   "cell_type": "markdown",
   "metadata": {},
   "source": [
    "这是CSDN博客的markdown语法。"
   ]
  },
  {
   "cell_type": "markdown",
   "metadata": {},
   "source": [
    "# 1.标题\n",
    "在文字写书写不同数量的#可以完成不同的标题，如下：\n",
    "\n",
    "# 一级标题\n",
    "## 二级标题\n",
    "### 三级标题\n",
    "#### 四级标题\n",
    "##### 五级标题\n",
    "###### 六级标题\n",
    "\n",
    "等号及减号也可以进行标题的书写，不过只能书写二级标题，并且需要写在文字的下面，减号及等号的数量不会影响标题的基数，如下：\n",
    "\n",
    "二级标题\n",
    "=========\n",
    "\n",
    "二级标题\n",
    "---------"
   ]
  },
  {
   "cell_type": "markdown",
   "metadata": {},
   "source": [
    "# 2. 列表\n",
    "无序列表的使用，在符号“-”后加空格使用。如下：\n",
    "\n",
    "- 无序列表1\n",
    "- 无序列表2\n",
    "- 无序列表3\n",
    "\n",
    "如果要控制列表的层级，则需要在符号“-”前使用空格。如下：\n",
    "\n",
    "- 无序列表1\n",
    "- 无序列表2\n",
    "  - 无序列表2.1\n",
    "     - 列表内容\n",
    "     - 列表内容\n",
    "\n",
    " \n",
    "\n",
    "有序列表的使用，在数字及符号“.”后加空格几个，如下：\n",
    "\n",
    "1. 有序列表1\n",
    "2. 有序列表2\n",
    "3. 有序列表3\n",
    "有序列表如果要区分层级，也可以在数字前加空格。"
   ]
  },
  {
   "cell_type": "markdown",
   "metadata": {},
   "source": [
    "# 3. 引用\n",
    "引用的格式是使用符号“>”后面书写文字，及可以使用引用。如下：\n",
    "\n",
    ">这个是引用\n",
    "> 是不是和电子邮件中的\n",
    "> 引用格式很像"
   ]
  },
  {
   "cell_type": "markdown",
   "metadata": {},
   "source": [
    "# 4. 粗体和斜体\n",
    "粗体的使用是在需要加粗的文字前后各加两个“*”，而斜体的使用则是在需要斜体的文字前后各加一个“*”，\n",
    "如果要使用粗体和斜体，那么就是在需要操作的文字前后各加三个“*”。如下：\n",
    "\n",
    "**这个是粗体**\n",
    "*这个是斜体*\n",
    "***这个是粗体加斜体***"
   ]
  },
  {
   "cell_type": "markdown",
   "metadata": {},
   "source": [
    "# 5. 链接和图片\n",
    "在文中直接加链接，中括号中是需要添加链接的文字，圆括号中是需要添加的链接，如下：\n",
    "\n",
    "[link text](http://example.com/ \"optional title\")\n",
    "\n",
    "在引用中加链接，第一个中括号添加需要添加的文字，第二个中括号中是引用链接的id，之后在引用中，使用id加链接：如下：\n",
    "\n",
    "[link text][id]\n",
    "[id]: http://example.com/ \"optional title here\"\n",
    "\n",
    "在文中直接引用链接，直接使用尖括号，把链接加入到尖括号中就可以实现，如下：\n",
    "\n",
    "<http://example.com/> or <address@example.com>\n",
    "插入互联网上图片，格式如下：\n",
    "\n",
    "![这里写图片描述](http://img3.douban.com/mpic/s1108264.jpg)\n",
    "![这里写图片描述][jane-eyre-douban]\n",
    "[jane-eyre-douban]: http://img3.douban.com/mpic/s1108264.jpg"
   ]
  },
  {
   "cell_type": "markdown",
   "metadata": {},
   "source": [
    "# 6. 代码块\n",
    "用TAB键起始的段落，会被认为是代码块，如下：\n",
    "\n",
    "    <php>\n",
    "        echo “hello world\";\n",
    "    </php>\n",
    "\n",
    "如果在一个行内需要引用代码，只要用反引号`引起来就好，如下：\n",
    "\n",
    "Use the `printf()` function."
   ]
  },
  {
   "cell_type": "markdown",
   "metadata": {},
   "source": [
    "# 7. 分割线和删除线\n",
    "可以在一行中用三个以上的星号、减号、底线来建立一个分隔线，同时需要在分隔线的上面空一行。如下：\n",
    "\n",
    "---\n",
    "****\n",
    "___\n",
    "\n",
    "删除线的使用，在需要删除的文字前后各使用两个符合“~”，如下\n",
    "\n",
    "~~Mistaken text.~~"
   ]
  },
  {
   "cell_type": "markdown",
   "metadata": {},
   "source": [
    "# 8. 代码块与语法高亮\n",
    "在需要高亮的代码块的前一行及后一行使用三个反引号“`”，同时第一行反引号后面表面代码块所使用的语言，如下：\n",
    "\n",
    "```ruby\n",
    "require 'redcarpet'\n",
    "markdown = Redcarpet.new(\"Hello World!\")\n",
    "puts markdown.to_html\n",
    "```"
   ]
  },
  {
   "cell_type": "markdown",
   "metadata": {},
   "source": [
    "# 9. 表格\n",
    "可以使用冒号来定义表格的对齐方式，如下：\n",
    "\n",
    "| Tables | Are | Cool |\n",
    "| ------------- |:-------------:| -----:|\n",
    "| col 3 is | right-aligned | $1600 |\n",
    "| col 2 is | centered | $12 |\n",
    "| zebra stripes | are neat | $1 |"
   ]
  },
  {
   "cell_type": "markdown",
   "metadata": {},
   "source": [
    "# 10. 使用MathJax渲染*LaTex* 数学公式，详见[math.stackexchange.com]\n",
    "\n",
    "行内公式，数学公式为：\n",
    "\n",
    "$\\Gamma(n) = (n-1)!\\quad\\forall n\\in\\mathbb N$\n",
    "块级公式：\n",
    "\n",
    "$$ x = \\dfrac{-b \\pm \\sqrt{b^2 - 4ac}}{2a} $$\n",
    "\n",
    "更多LaTex语法请参考 [这儿]。"
   ]
  },
  {
   "cell_type": "markdown",
   "metadata": {},
   "source": [
    "# 11. UML图\n",
    "可以渲染序列图：\n",
    "\n",
    "```sequence\n",
    "张三->李四: 嘿，小四儿, 写博客了没?\n",
    "Note right of 李四: 李四愣了一下，说：\n",
    "李四-->张三: 忙得吐血，哪有时间写。\n",
    "```\n",
    "\n",
    "或者流程图：\n",
    "\n",
    "```flow\n",
    "st=>start: 开始\n",
    "e=>end: 结束\n",
    "op=>operation: 我的操作\n",
    "cond=>condition: 确认？\n",
    "\n",
    "st->op->cond\n",
    "cond(yes)->e\n",
    "cond(no)->op\n",
    "```\n",
    "\n",
    "- 关于 **序列图** 语法，参考 [这儿]\n",
    "- 关于 **流程图** 语法，参考 [这儿]"
   ]
  },
  {
   "cell_type": "code",
   "execution_count": null,
   "metadata": {
    "collapsed": true
   },
   "outputs": [],
   "source": []
  }
 ],
 "metadata": {
  "kernelspec": {
   "display_name": "Python 3",
   "language": "python",
   "name": "python3"
  },
  "language_info": {
   "codemirror_mode": {
    "name": "ipython",
    "version": 3
   },
   "file_extension": ".py",
   "mimetype": "text/x-python",
   "name": "python",
   "nbconvert_exporter": "python",
   "pygments_lexer": "ipython3",
   "version": "3.6.1"
  }
 },
 "nbformat": 4,
 "nbformat_minor": 2
}
