{
 "cells": [
  {
   "cell_type": "markdown",
   "metadata": {},
   "source": [
    "[timeit](https://docs.python.org/3/library/timeit.html),\n",
    "Measure execution time of small code snippets"
   ]
  },
  {
   "cell_type": "code",
   "execution_count": 1,
   "metadata": {
    "scrolled": true
   },
   "outputs": [
    {
     "data": {
      "text/plain": [
       "['Timer',\n",
       " '__all__',\n",
       " '__builtins__',\n",
       " '__cached__',\n",
       " '__doc__',\n",
       " '__file__',\n",
       " '__loader__',\n",
       " '__name__',\n",
       " '__package__',\n",
       " '__spec__',\n",
       " '_globals',\n",
       " 'default_number',\n",
       " 'default_repeat',\n",
       " 'default_timer',\n",
       " 'dummy_src_name',\n",
       " 'gc',\n",
       " 'itertools',\n",
       " 'main',\n",
       " 'reindent',\n",
       " 'repeat',\n",
       " 'sys',\n",
       " 'template',\n",
       " 'time',\n",
       " 'timeit']"
      ]
     },
     "execution_count": 1,
     "metadata": {},
     "output_type": "execute_result"
    }
   ],
   "source": [
    "import timeit\n",
    "dir(timeit)"
   ]
  },
  {
   "cell_type": "code",
   "execution_count": 2,
   "metadata": {
    "scrolled": false
   },
   "outputs": [
    {
     "name": "stdout",
     "output_type": "stream",
     "text": [
      "Help on module timeit:\n",
      "\n",
      "NAME\n",
      "    timeit - Tool for measuring execution time of small code snippets.\n",
      "\n",
      "DESCRIPTION\n",
      "    This module avoids a number of common traps for measuring execution\n",
      "    times.  See also Tim Peters' introduction to the Algorithms chapter in\n",
      "    the Python Cookbook, published by O'Reilly.\n",
      "    \n",
      "    Library usage: see the Timer class.\n",
      "    \n",
      "    Command line usage:\n",
      "        python timeit.py [-n N] [-r N] [-s S] [-t] [-c] [-p] [-h] [--] [statement]\n",
      "    \n",
      "    Options:\n",
      "      -n/--number N: how many times to execute 'statement' (default: see below)\n",
      "      -r/--repeat N: how many times to repeat the timer (default 3)\n",
      "      -s/--setup S: statement to be executed once initially (default 'pass').\n",
      "                    Execution time of this setup statement is NOT timed.\n",
      "      -p/--process: use time.process_time() (default is time.perf_counter())\n",
      "      -t/--time: use time.time() (deprecated)\n",
      "      -c/--clock: use time.clock() (deprecated)\n",
      "      -v/--verbose: print raw timing results; repeat for more digits precision\n",
      "      -u/--unit: set the output time unit (usec, msec, or sec)\n",
      "      -h/--help: print this usage message and exit\n",
      "      --: separate options from statement, use when statement starts with -\n",
      "      statement: statement to be timed (default 'pass')\n",
      "    \n",
      "    A multi-line statement may be given by specifying each line as a\n",
      "    separate argument; indented lines are possible by enclosing an\n",
      "    argument in quotes and using leading spaces.  Multiple -s options are\n",
      "    treated similarly.\n",
      "    \n",
      "    If -n is not given, a suitable number of loops is calculated by trying\n",
      "    successive powers of 10 until the total time is at least 0.2 seconds.\n",
      "    \n",
      "    Note: there is a certain baseline overhead associated with executing a\n",
      "    pass statement.  It differs between versions.  The code here doesn't try\n",
      "    to hide it, but you should be aware of it.  The baseline overhead can be\n",
      "    measured by invoking the program without arguments.\n",
      "    \n",
      "    Classes:\n",
      "    \n",
      "        Timer\n",
      "    \n",
      "    Functions:\n",
      "    \n",
      "        timeit(string, string) -> float\n",
      "        repeat(string, string) -> list\n",
      "        default_timer() -> float\n",
      "\n",
      "CLASSES\n",
      "    builtins.object\n",
      "        Timer\n",
      "    \n",
      "    class Timer(builtins.object)\n",
      "     |  Class for timing execution speed of small code snippets.\n",
      "     |  \n",
      "     |  The constructor takes a statement to be timed, an additional\n",
      "     |  statement used for setup, and a timer function.  Both statements\n",
      "     |  default to 'pass'; the timer function is platform-dependent (see\n",
      "     |  module doc string).  If 'globals' is specified, the code will be\n",
      "     |  executed within that namespace (as opposed to inside timeit's\n",
      "     |  namespace).\n",
      "     |  \n",
      "     |  To measure the execution time of the first statement, use the\n",
      "     |  timeit() method.  The repeat() method is a convenience to call\n",
      "     |  timeit() multiple times and return a list of results.\n",
      "     |  \n",
      "     |  The statements may contain newlines, as long as they don't contain\n",
      "     |  multi-line string literals.\n",
      "     |  \n",
      "     |  Methods defined here:\n",
      "     |  \n",
      "     |  __init__(self, stmt='pass', setup='pass', timer=<built-in function perf_counter>, globals=None)\n",
      "     |      Constructor.  See class doc string.\n",
      "     |  \n",
      "     |  autorange(self, callback=None)\n",
      "     |      Return the number of loops and time taken so that total time >= 0.2.\n",
      "     |      \n",
      "     |      Calls the timeit method with *number* set to successive powers of\n",
      "     |      ten (10, 100, 1000, ...) up to a maximum of one billion, until\n",
      "     |      the time taken is at least 0.2 second, or the maximum is reached.\n",
      "     |      Returns ``(number, time_taken)``.\n",
      "     |      \n",
      "     |      If *callback* is given and is not None, it will be called after\n",
      "     |      each trial with two arguments: ``callback(number, time_taken)``.\n",
      "     |  \n",
      "     |  print_exc(self, file=None)\n",
      "     |      Helper to print a traceback from the timed code.\n",
      "     |      \n",
      "     |      Typical use:\n",
      "     |      \n",
      "     |          t = Timer(...)       # outside the try/except\n",
      "     |          try:\n",
      "     |              t.timeit(...)    # or t.repeat(...)\n",
      "     |          except:\n",
      "     |              t.print_exc()\n",
      "     |      \n",
      "     |      The advantage over the standard traceback is that source lines\n",
      "     |      in the compiled template will be displayed.\n",
      "     |      \n",
      "     |      The optional file argument directs where the traceback is\n",
      "     |      sent; it defaults to sys.stderr.\n",
      "     |  \n",
      "     |  repeat(self, repeat=3, number=1000000)\n",
      "     |      Call timeit() a few times.\n",
      "     |      \n",
      "     |      This is a convenience function that calls the timeit()\n",
      "     |      repeatedly, returning a list of results.  The first argument\n",
      "     |      specifies how many times to call timeit(), defaulting to 3;\n",
      "     |      the second argument specifies the timer argument, defaulting\n",
      "     |      to one million.\n",
      "     |      \n",
      "     |      Note: it's tempting to calculate mean and standard deviation\n",
      "     |      from the result vector and report these.  However, this is not\n",
      "     |      very useful.  In a typical case, the lowest value gives a\n",
      "     |      lower bound for how fast your machine can run the given code\n",
      "     |      snippet; higher values in the result vector are typically not\n",
      "     |      caused by variability in Python's speed, but by other\n",
      "     |      processes interfering with your timing accuracy.  So the min()\n",
      "     |      of the result is probably the only number you should be\n",
      "     |      interested in.  After that, you should look at the entire\n",
      "     |      vector and apply common sense rather than statistics.\n",
      "     |  \n",
      "     |  timeit(self, number=1000000)\n",
      "     |      Time 'number' executions of the main statement.\n",
      "     |      \n",
      "     |      To be precise, this executes the setup statement once, and\n",
      "     |      then returns the time it takes to execute the main statement\n",
      "     |      a number of times, as a float measured in seconds.  The\n",
      "     |      argument is the number of times through the loop, defaulting\n",
      "     |      to one million.  The main statement, the setup statement and\n",
      "     |      the timer function to be used are passed to the constructor.\n",
      "     |  \n",
      "     |  ----------------------------------------------------------------------\n",
      "     |  Data descriptors defined here:\n",
      "     |  \n",
      "     |  __dict__\n",
      "     |      dictionary for instance variables (if defined)\n",
      "     |  \n",
      "     |  __weakref__\n",
      "     |      list of weak references to the object (if defined)\n",
      "\n",
      "FUNCTIONS\n",
      "    default_timer = perf_counter(...)\n",
      "        perf_counter() -> float\n",
      "        \n",
      "        Performance counter for benchmarking.\n",
      "    \n",
      "    repeat(stmt='pass', setup='pass', timer=<built-in function perf_counter>, repeat=3, number=1000000, globals=None)\n",
      "        Convenience function to create Timer object and call repeat method.\n",
      "    \n",
      "    timeit(stmt='pass', setup='pass', timer=<built-in function perf_counter>, number=1000000, globals=None)\n",
      "        Convenience function to create Timer object and call timeit method.\n",
      "\n",
      "DATA\n",
      "    __all__ = ['Timer', 'timeit', 'repeat', 'default_timer']\n",
      "\n",
      "FILE\n",
      "    c:\\anaconda3\\lib\\timeit.py\n",
      "\n",
      "\n"
     ]
    }
   ],
   "source": [
    "help(timeit)"
   ]
  },
  {
   "cell_type": "code",
   "execution_count": 7,
   "metadata": {},
   "outputs": [
    {
     "data": {
      "text/plain": [
       "9.330512408415189e-07"
      ]
     },
     "execution_count": 7,
     "metadata": {},
     "output_type": "execute_result"
    }
   ],
   "source": [
    "timeit.default_timer()"
   ]
  },
  {
   "cell_type": "code",
   "execution_count": 8,
   "metadata": {},
   "outputs": [
    {
     "ename": "IndentationError",
     "evalue": "expected an indented block (<timeit-src>, line 7)",
     "output_type": "error",
     "traceback": [
      "\u001b[1;36m  File \u001b[1;32m\"<timeit-src>\"\u001b[1;36m, line \u001b[1;32m7\u001b[0m\n\u001b[1;33m    _t1 = _timer()\u001b[0m\n\u001b[1;37m      ^\u001b[0m\n\u001b[1;31mIndentationError\u001b[0m\u001b[1;31m:\u001b[0m expected an indented block\n"
     ]
    }
   ],
   "source": [
    "timeit.Timer('')"
   ]
  },
  {
   "cell_type": "code",
   "execution_count": 15,
   "metadata": {},
   "outputs": [
    {
     "name": "stdout",
     "output_type": "stream",
     "text": [
      "0\n",
      "1\n",
      "2\n",
      "3\n",
      "4\n",
      "5\n",
      "6\n",
      "7\n",
      "8\n",
      "9\n",
      "10\n",
      "11\n",
      "12\n",
      "13\n",
      "14\n",
      "15\n",
      "16\n",
      "17\n",
      "18\n",
      "19\n",
      "20\n",
      "21\n",
      "22\n",
      "23\n",
      "24\n",
      "25\n",
      "26\n",
      "27\n",
      "28\n",
      "29\n",
      "30\n",
      "         816 function calls (786 primitive calls) in 0.002 seconds\n",
      "\n",
      "   Ordered by: standard name\n",
      "\n",
      "   ncalls  tottime  percall  cumtime  percall filename:lineno(function)\n",
      "     31/1    0.000    0.000    0.002    0.002 <ipython-input-15-d973efd6406f>:3(testProfile)\n",
      "        1    0.000    0.000    0.002    0.002 <string>:1(<module>)\n",
      "       63    0.001    0.000    0.001    0.000 iostream.py:180(schedule)\n",
      "       62    0.000    0.000    0.000    0.000 iostream.py:284(_is_master_process)\n",
      "       62    0.000    0.000    0.000    0.000 iostream.py:297(_schedule_flush)\n",
      "       62    0.000    0.000    0.001    0.000 iostream.py:342(write)\n",
      "       63    0.000    0.000    0.000    0.000 iostream.py:87(_event_pipe)\n",
      "       63    0.000    0.000    0.000    0.000 threading.py:1062(_wait_for_tstate_lock)\n",
      "       63    0.000    0.000    0.000    0.000 threading.py:1104(is_alive)\n",
      "       63    0.000    0.000    0.000    0.000 threading.py:506(is_set)\n",
      "        1    0.000    0.000    0.002    0.002 {built-in method builtins.exec}\n",
      "       62    0.000    0.000    0.000    0.000 {built-in method builtins.isinstance}\n",
      "       31    0.000    0.000    0.002    0.000 {built-in method builtins.print}\n",
      "       62    0.000    0.000    0.000    0.000 {built-in method nt.getpid}\n",
      "       63    0.000    0.000    0.000    0.000 {built-in method nt.urandom}\n",
      "       63    0.000    0.000    0.000    0.000 {method 'acquire' of '_thread.lock' objects}\n",
      "        1    0.000    0.000    0.000    0.000 {method 'disable' of '_lsprof.Profiler' objects}\n",
      "\n",
      "\n"
     ]
    }
   ],
   "source": [
    "import cProfile\n",
    "import math\n",
    "def testProfile(n):\n",
    "    if n>0:\n",
    "        \n",
    "        testProfile(n-1)\n",
    "        print(n)\n",
    "    else:\n",
    "        print(0)\n",
    "        \n",
    "cProfile.run('testProfile(30)')"
   ]
  },
  {
   "cell_type": "code",
   "execution_count": null,
   "metadata": {
    "collapsed": true
   },
   "outputs": [],
   "source": []
  }
 ],
 "metadata": {
  "kernelspec": {
   "display_name": "Python 3",
   "language": "python",
   "name": "python3"
  },
  "language_info": {
   "codemirror_mode": {
    "name": "ipython",
    "version": 3
   },
   "file_extension": ".py",
   "mimetype": "text/x-python",
   "name": "python",
   "nbconvert_exporter": "python",
   "pygments_lexer": "ipython3",
   "version": "3.6.1"
  }
 },
 "nbformat": 4,
 "nbformat_minor": 2
}
